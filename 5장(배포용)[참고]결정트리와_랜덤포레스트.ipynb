{
  "nbformat": 4,
  "nbformat_minor": 0,
  "metadata": {
    "colab": {
      "provenance": [],
      "authorship_tag": "ABX9TyNL3CxmzFKwLylwgdF/LKAq",
      "include_colab_link": true
    },
    "kernelspec": {
      "name": "python3",
      "display_name": "Python 3"
    },
    "language_info": {
      "name": "python"
    }
  },
  "cells": [
    {
      "cell_type": "markdown",
      "metadata": {
        "id": "view-in-github",
        "colab_type": "text"
      },
      "source": [
        "<a href=\"https://colab.research.google.com/github/swKyungbock/2023MLwithTextData/blob/main/5%EC%9E%A5(%EB%B0%B0%ED%8F%AC%EC%9A%A9)%5B%EC%B0%B8%EA%B3%A0%5D%EA%B2%B0%EC%A0%95%ED%8A%B8%EB%A6%AC%EC%99%80_%EB%9E%9C%EB%8D%A4%ED%8F%AC%EB%A0%88%EC%8A%A4%ED%8A%B8.ipynb\" target=\"_parent\"><img src=\"https://colab.research.google.com/assets/colab-badge.svg\" alt=\"Open In Colab\"/></a>"
      ]
    },
    {
      "cell_type": "markdown",
      "source": [
        "# 1. 결정 트리 모델 알아보기 예제\n",
        "### 와인 분류하기(레드와인 : 0 / 화이트와인 : 1)\n",
        "\n",
        "\n",
        "*    데이터 위치 : https://bit.ly/wine_csv_data\n",
        "\n",
        "\n"
      ],
      "metadata": {
        "id": "g-nTgGRCmFEf"
      }
    },
    {
      "cell_type": "markdown",
      "source": [
        "## 1) 데이터 가져오기"
      ],
      "metadata": {
        "id": "ILlLjmrSof_6"
      }
    },
    {
      "cell_type": "code",
      "source": [
        "#판다스 불러오기(별칭 : pd)\n",
        "#.\n",
        "#판다스를 이용하여 \"https://bit.ly/wine_csv_data\"의 csv파일을 읽어와서 wine변수에 저장하기\n",
        "#.\n",
        "#처음 5개의 샘플을 출력하여 데이터가 잘 들어왔는지 확인하기\n",
        "wine.head()"
      ],
      "metadata": {
        "id": "IoNiVOoYmXGF"
      },
      "execution_count": null,
      "outputs": []
    },
    {
      "cell_type": "markdown",
      "source": [
        "## 2) 데이터 살펴보기"
      ],
      "metadata": {
        "id": "wM0QftM1pExc"
      }
    },
    {
      "cell_type": "code",
      "source": [
        "#전체 데이터(wine)의 정보 확인\n",
        "#."
      ],
      "metadata": {
        "id": "8zO2Fl9Fo0Ty"
      },
      "execution_count": null,
      "outputs": []
    },
    {
      "cell_type": "code",
      "source": [
        "#전체 데이터의 통계 정보 요약 확인\n",
        "#."
      ],
      "metadata": {
        "id": "cf58U6Lgo6ks"
      },
      "execution_count": null,
      "outputs": []
    },
    {
      "cell_type": "markdown",
      "source": [
        "## 3) 데이터 전처리\n",
        "\n",
        "\n",
        "*   지도 학습 : 입력(문제)과 정답(출력)으로 데이터를 나누기\n",
        "\n",
        "> - input_data : alcohol, sugar, pH\n",
        "\n",
        "> - target_data : class\n",
        "\n",
        "\n",
        "\n",
        "\n",
        "\n",
        "\n",
        "\n",
        "\n",
        "\n",
        "\n",
        "\n",
        "\n",
        "\n",
        "\n",
        "\n",
        "\n",
        "\n",
        "\n",
        "\n",
        "\n",
        "\n",
        "\n"
      ],
      "metadata": {
        "id": "n9TNKzAAoAbD"
      }
    },
    {
      "cell_type": "code",
      "source": [
        "#입력데이터(input_data)\n",
        "input_data=wine[['alcohol','sugar','pH']]\n",
        "#출력데이터(target_data)\n",
        "target_data=wine['class']\n",
        "#입력데이터와 출력데이터 출력하여 확인\n",
        "print(input_data)\n",
        "print(target_data)"
      ],
      "metadata": {
        "id": "sMqUhkkGoduO"
      },
      "execution_count": null,
      "outputs": []
    },
    {
      "cell_type": "code",
      "source": [
        "#input_data배열로 변환하기\n",
        "input_data=#.\n",
        "print(input_data)\n",
        "#target_data배열로 변환하기\n",
        "target_data=#.\n",
        "print(target_data)"
      ],
      "metadata": {
        "id": "0TOImXCirUXi"
      },
      "execution_count": null,
      "outputs": []
    },
    {
      "cell_type": "markdown",
      "source": [
        "## 4) 사이킷런을 이용하여 훈련용 데이터와 테스트용 데이터로 나누기\n",
        "\n",
        "\n",
        "*   훈련용 데이터(입력, 출력(정답))\n",
        "*   테스트용 데이터(입력) : 전체 데이터 중 임의로 20% 값을 설정\n",
        "\n"
      ],
      "metadata": {
        "id": "j1-TxO2LsRVK"
      }
    },
    {
      "cell_type": "code",
      "source": [
        "#sklearn.model_selection의 train_test_split 불러오기\n",
        "#.\n",
        "#훈련 데이터와 테스트 데이터로 나누기 : 테스트용 데이터를 전체 데이터의 20% 사용\n",
        "train_input, test_input, train_target, test_target=#.\n",
        "#훈련 데이터와 테스트 데이터 모양 확인하기\n",
        "print(train_input.shape)\n",
        "print(test_input.shape)"
      ],
      "metadata": {
        "id": "SEhduvtwsnzx"
      },
      "execution_count": null,
      "outputs": []
    },
    {
      "cell_type": "markdown",
      "source": [
        "## 5) 결정 트리를 이용하여 훈련시키기"
      ],
      "metadata": {
        "id": "_v-BSsFas0Fg"
      }
    },
    {
      "cell_type": "code",
      "source": [
        "#결정트리 모델을 불러오기 : sklearn.tree.DecisionTreeClassifier\n",
        "#.\n",
        "#결정트리 생성(random_state : 최적의 분할을 찾기 위해 특성의 순서를 랜덤으로 섞음. 지정하지 않아도 됨. 모두 같은 결과인지 확인하기 위해 지정)\n",
        "#.\n",
        "#결정트리를 이용하여 훈련하기 : fit\n",
        "#.\n",
        "#훈련 세트와 테스트 세트의 평가 출력하기\n",
        "#."
      ],
      "metadata": {
        "id": "EvRoOaMmuJnx"
      },
      "execution_count": null,
      "outputs": []
    },
    {
      "cell_type": "markdown",
      "source": [
        "##6) 결정 트리 시각화하여 살펴보기"
      ],
      "metadata": {
        "id": "GEHqSPLpwW0x"
      }
    },
    {
      "cell_type": "code",
      "source": [
        "#matplotlib의 pyplot불러오기(별칭 plt)\n",
        "#.\n",
        "#sklearn.tree의 plot_tree 불러오기\n",
        "#.\n",
        "#pyplot의 사이즈를 (10,7)로 설정\n",
        "#.\n",
        "#plot_tree를 이용하여 결정트리 그리기\n",
        "#.\n",
        "#pyplot보여주기\n",
        "#."
      ],
      "metadata": {
        "id": "10wkW5-4wdV0"
      },
      "execution_count": null,
      "outputs": []
    },
    {
      "cell_type": "code",
      "source": [
        "#pyplot의 사이즈를 (10,7)로 설정\n",
        "plt.figure(figsize=(10,7))\n",
        "#plot_tree를 이용하여 결정트리 그리기 : 깊이 1, 노드 색칠하기, 특성 이름 보여주기\n",
        "#.\n",
        "#pyplot보여주기\n",
        "plt.show()"
      ],
      "metadata": {
        "id": "3PKxNWYaZFuc"
      },
      "execution_count": null,
      "outputs": []
    },
    {
      "cell_type": "code",
      "source": [
        "#깊이가 3인 새로운 결정트리(dt2)생성하기\n",
        "#.\n",
        "#결정트리를 이용하여 훈련하기 : fit\n",
        "#.\n",
        "#훈련 세트와 테스트 세트의 평가\n",
        "print(dt2.score(train_input, train_target))\n",
        "print(dt2.score(test_input, test_target))"
      ],
      "metadata": {
        "id": "6ogRTwA3fN0F"
      },
      "execution_count": null,
      "outputs": []
    },
    {
      "cell_type": "code",
      "source": [
        "#새로운 결정트리(st2)확인하기\n",
        "plt.figure(figsize=(10,7))\n",
        "plot_tree(dt2,filled=True,feature_names=['alcohol','sugar','pH'])\n",
        "plt.show()"
      ],
      "metadata": {
        "id": "HyYiKz2Iej9a"
      },
      "execution_count": null,
      "outputs": []
    },
    {
      "cell_type": "code",
      "source": [
        "#결정트리에서 만든 중요한 특성 : alcohol, sugar, pH\n",
        "print(dt2.feature_importances_)"
      ],
      "metadata": {
        "id": "HS1kmP-8qdOO"
      },
      "execution_count": null,
      "outputs": []
    },
    {
      "cell_type": "markdown",
      "source": [
        "## 7) 랜덤포레스트를 이용하여 훈련시키기"
      ],
      "metadata": {
        "id": "9b29CRwRq13l"
      }
    },
    {
      "cell_type": "code",
      "source": [
        "#랜덤포레스트\n",
        "from sklearn.ensemble import RandomForestClassifier\n",
        "#기본으로 결정트리의 갯수 100개,모든 cpu의 코어 사용하여 랜덤포레스트 생성\n",
        "#.\n",
        "#랜덤포레스트로 훈련시키기\n",
        "#.\n",
        "\n",
        "#훈련 세트와 테스트 세트의 평가\n",
        "#.\n",
        "#."
      ],
      "metadata": {
        "id": "F0uTSGMKrKtr"
      },
      "execution_count": null,
      "outputs": []
    },
    {
      "cell_type": "code",
      "source": [
        "#랜덤포레스트에서 만든 중요한 특성 : alcohol, sugar, pH\n",
        "print(rf.feature_importances_)"
      ],
      "metadata": {
        "id": "1AGUx377t20Q"
      },
      "execution_count": null,
      "outputs": []
    }
  ]
}