{
  "nbformat": 4,
  "nbformat_minor": 0,
  "metadata": {
    "colab": {
      "provenance": [],
      "authorship_tag": "ABX9TyPo0oR3z2zOCHihYpSh5jsO"
    },
    "kernelspec": {
      "name": "python3",
      "display_name": "Python 3"
    },
    "language_info": {
      "name": "python"
    }
  },
  "cells": [
    {
      "cell_type": "markdown",
      "source": [
        "# [5장] 연합뉴스 타이틀 분류\n",
        "## 1. 분류를 위한 기본 설정(p.115)\n",
        "###★ 필요한 라이브러리\n",
        "#### - 판다스(데이터 분석도구), 넘파이(수치계산), 시본과 맷플롯립(데이터 시각화)"
      ],
      "metadata": {
        "id": "MUjIydWHx_Ws"
      }
    },
    {
      "cell_type": "code",
      "execution_count": null,
      "metadata": {
        "id": "cL_RDJYVvfcm"
      },
      "outputs": [],
      "source": [
        "#판다스, 넘파이, 시본과 맷플롯립 불러오기(공식 문서의 별칭을 사용)\n",
        "import pandas as pd\n",
        "import numpy as np\n",
        "import seaborn as sns\n",
        "import matplotlib.pyplot as plt"
      ]
    },
    {
      "cell_type": "markdown",
      "source": [
        "### ★ 한글 폰트 설정을 위한 설치\n",
        "#### - koreanize-matplotlib\n",
        "#### - konlpy : 한국어 형태소 분석\n",
        "#### - tqdm : 작업의 진행 상태 확인"
      ],
      "metadata": {
        "id": "y3wL5SKxyx-z"
      }
    },
    {
      "cell_type": "code",
      "source": [
        "!pip install koreanize-matplotlib"
      ],
      "metadata": {
        "id": "fvsobMM0yxk3"
      },
      "execution_count": null,
      "outputs": []
    },
    {
      "cell_type": "code",
      "source": [
        "!pip install konlpy --upgrade"
      ],
      "metadata": {
        "id": "CxZ8u_b80iTq"
      },
      "execution_count": null,
      "outputs": []
    },
    {
      "cell_type": "code",
      "source": [
        "!pip install tqdm --upgrade"
      ],
      "metadata": {
        "id": "-srB4H-50pFz"
      },
      "execution_count": null,
      "outputs": []
    },
    {
      "cell_type": "code",
      "source": [
        "import koreanize_matplotlib\n",
        "#그래프에 retina display 적용\n",
        "%config InlineBackend.figure_format='retina'\n",
        "pd.Series([1,3,5,-7,9]).plot(title=\"한글\")"
      ],
      "metadata": {
        "id": "uaxyEN680tHf"
      },
      "execution_count": null,
      "outputs": []
    },
    {
      "cell_type": "markdown",
      "source": [
        "##2. 데이터 불러오기 : 데이콘에서 불러오기(p.117)\n",
        "### 1) 해당 경로에 파일이 있는지 확인\n",
        "### 2) 파일이 업다면 폴더를 생성한다\n",
        "### 3) 생성한 폴더에 데이터를 다운로드한 뒤\n",
        "### 4) open.zip 파일의 압축을 푼다\n"
      ],
      "metadata": {
        "id": "gFCzL6pG1e29"
      }
    },
    {
      "cell_type": "code",
      "source": [
        "import os\n",
        "import platform\n",
        "\n",
        "base_path=\"data/klue/\"\n",
        "file_name=\"dacon-klue-open-zip\"\n",
        "\n",
        "#파일이 있는지 확인하는 함수 작성\n",
        "def file_exist_check(base_path) :\n",
        "  #파일 경로 만들기\n",
        "  if os.path.exists(f\"{base_path}train_data.csv\") : #해당 경로에 파일이 있다면\n",
        "    print(f\"{os.getcwd()}/{base_path} 경로에 파일이 있음\")\n",
        "    return\n",
        "  if not os.path.exists(f\"{base_path}train_data.csv\") : #해당 경로에 파일이 없다면\n",
        "    os.makedirs(base_path)\n",
        "  if platform.system()==\"Linux\" :\n",
        "    print(f\"파일을 다운로드 하고 {base_path} 경로에 압축을 해제함\")\n",
        "    !wget https://bit.ly/{file_name}\n",
        "    !unzip {file_name} -d {base_path}\n",
        "    return\n",
        "  else :\n",
        "    print(f\"\"\"https://dacon.io/competitions/official/235747/data 에서 다운로드 해 실습 경로 {os.getcwd()}/{base_path}에 옮겨주세요.\"\"\")\n",
        "    return\n",
        "\n",
        "file_exist_check(base_path)"
      ],
      "metadata": {
        "id": "OJyclyb62Cna"
      },
      "execution_count": null,
      "outputs": []
    },
    {
      "cell_type": "markdown",
      "source": [
        "## 3. 데이터 전처리하기\n",
        "### ★ 지도학습 준비\n",
        "#### - 학습할 데이터 : train\n",
        "#### - 예측할 데이터 : test\n"
      ],
      "metadata": {
        "id": "wn1y6Dz0LT9z"
      }
    },
    {
      "cell_type": "code",
      "source": [
        "#판다스를 활용해 데이터 프레임 형태로 데이터 불러오기\n",
        "train=pd.read_csv(os.path.join(base_path, \"train_data.csv\")) #경로 합치기 \"data/clue/train_data.csv\"\n",
        "test=pd.read_csv(os.path.join(base_path,\"test_data.csv\"))\n",
        "#데이터의 크기 확인(행,열)\n",
        "#.\n",
        "#훈련 데이터의 컬럼 확인\n",
        "#.\n",
        "#테스트 데이터의 컬럼 확인\n",
        "#."
      ],
      "metadata": {
        "id": "T2mMHiMbLpG8"
      },
      "execution_count": null,
      "outputs": []
    },
    {
      "cell_type": "code",
      "source": [
        "#토픽 불러오기\n",
        "topic=pd.read_csv(os.path.join(base_path, \"topic_dict.csv\"))\n",
        "topic"
      ],
      "metadata": {
        "id": "UA4DgQp4NOUS"
      },
      "execution_count": null,
      "outputs": []
    },
    {
      "cell_type": "code",
      "source": [
        "#토픽 데이터의 값 확인\n",
        "topic[\"topic\"].values"
      ],
      "metadata": {
        "id": "ETihkqyxQsjp"
      },
      "execution_count": null,
      "outputs": []
    },
    {
      "cell_type": "code",
      "source": [
        "train.head()"
      ],
      "metadata": {
        "id": "ml32VOKnQ0DK"
      },
      "execution_count": null,
      "outputs": []
    },
    {
      "cell_type": "code",
      "source": [
        "test.head()"
      ],
      "metadata": {
        "id": "s_1RrsTwQ7D9"
      },
      "execution_count": null,
      "outputs": []
    },
    {
      "cell_type": "markdown",
      "source": [
        "### ★ 데이터 전처리 과정\n",
        "#### - 전체적인 데이터 특성 파악 : 문자 길이, 단어의 등장 빈도 등 (시각화)\n",
        "#### - 불필요한 기호를 제거 후 중요한 정보를 담은 내용 추출\n",
        "#### * 단, 트레이닝 데이터와 테스트 데이터를 정렬 하여 전처리한 후 다시 나눈다."
      ],
      "metadata": {
        "id": "EZTsCxn-RAmd"
      }
    },
    {
      "cell_type": "code",
      "source": [
        "#전처리를 위한 데이터 병합 1: train과 test데이터는 단순히 아래에 이어서 연결된다(행방향)\n",
        "raw=pd.concat([train,test])\n",
        "print(raw.shape)\n",
        "raw.head()\n",
        "raw.tail()"
      ],
      "metadata": {
        "id": "cwvUzQ3ASR7X"
      },
      "execution_count": null,
      "outputs": []
    },
    {
      "cell_type": "code",
      "source": [
        "#전처리를 위한 데이터 병합 2: raw(train+test)에 topic 병합하되, 각 데이터의 고유값(topic_idx)를 기준으로 병합\n",
        "df=raw.merge(topic, how=\"left\")\n",
        "df.shape"
      ],
      "metadata": {
        "id": "0Oj1Iuc9U2jr"
      },
      "execution_count": null,
      "outputs": []
    },
    {
      "cell_type": "code",
      "source": [
        "df.head()"
      ],
      "metadata": {
        "id": "p_aF03elVG3w"
      },
      "execution_count": null,
      "outputs": []
    },
    {
      "cell_type": "code",
      "source": [
        "df.tail()"
      ],
      "metadata": {
        "id": "AWje8fcHA7Dq"
      },
      "execution_count": null,
      "outputs": []
    },
    {
      "cell_type": "markdown",
      "source": [
        "### ★정답값 빈도수 확인\n",
        "#### 트레이닝 데이터에서 제공하는 정답값의 빈도수를 구해서 예측하는 값의 빈도수가 비슷한지 차이가 있는지 확인하기"
      ],
      "metadata": {
        "id": "euZbbiFNVJqV"
      }
    },
    {
      "cell_type": "code",
      "source": [
        "#topic_idx에 따른 빈도수 구하기\n",
        "df[\"topic_idx\"].value_counts()"
      ],
      "metadata": {
        "id": "idEizaAIWIZx"
      },
      "execution_count": null,
      "outputs": []
    },
    {
      "cell_type": "code",
      "source": [
        "!apt-get update -qq   # 폰트 설정을 위한 코드\n",
        "!apt-get install fonts-nanum* -qq"
      ],
      "metadata": {
        "id": "zNvPWDHGYTbt"
      },
      "execution_count": null,
      "outputs": []
    },
    {
      "cell_type": "code",
      "source": [
        "#topic_idx에 따른 빈도수 시각화하기\n",
        "sns.countplot(data=df, y=\"topic\")\n"
      ],
      "metadata": {
        "id": "JIDwp3BDWQO3"
      },
      "execution_count": null,
      "outputs": []
    },
    {
      "cell_type": "markdown",
      "source": [
        "### ★문자 길이 확인\n",
        "#### - 음절의 길이(len)\n",
        "#### - 단어의 빈도(word_count)\n",
        "#### - 중복없는 어절의 길이(unique_word_count)"
      ],
      "metadata": {
        "id": "XUw2HvFxWmdv"
      }
    },
    {
      "cell_type": "code",
      "source": [
        "df[\"len\"]=df[\"title\"].apply(lambda x : len(x))\n",
        "df[\"word_count\"]=df[\"title\"].apply(lambda x : len(x.split()))\n",
        "df[\"unique_word_count\"]=df[\"title\"].apply(lambda x : len(set(x.split())))"
      ],
      "metadata": {
        "id": "7-8R7IVrZPv3"
      },
      "execution_count": null,
      "outputs": []
    },
    {
      "cell_type": "code",
      "source": [
        "df.head()"
      ],
      "metadata": {
        "id": "4m2MbGCEZ3vg"
      },
      "execution_count": null,
      "outputs": []
    },
    {
      "cell_type": "markdown",
      "source": [
        "### ★ 맷플롯립과 시본을 이용해 히스토그램으로 시각화\n"
      ],
      "metadata": {
        "id": "PiGm7viuaFSz"
      }
    },
    {
      "cell_type": "code",
      "source": [
        "fig, axes=plt.subplots(1,3,figsize=(15,2))\n",
        "sns.histplot(df[\"len\"], ax=axes[0])\n",
        "sns.histplot(df[\"word_count\"],ax=axes[1])\n",
        "sns.histplot(df[\"unique_word_count\"],ax=axes[2])"
      ],
      "metadata": {
        "id": "dha1xKXLaDmT"
      },
      "execution_count": null,
      "outputs": []
    },
    {
      "cell_type": "code",
      "source": [
        "df[[\"len\",\"word_count\",\"unique_word_count\"]].describe()"
      ],
      "metadata": {
        "id": "dlqZKWyBa-zB"
      },
      "execution_count": null,
      "outputs": []
    },
    {
      "cell_type": "markdown",
      "source": [
        "### ★주제별 글자와 단어의 빈도 확인\n",
        "#### - 시본의 displot으로 확인"
      ],
      "metadata": {
        "id": "NdCGfRDIbLAb"
      }
    },
    {
      "cell_type": "code",
      "source": [
        "sns.displot(data=df, x=\"len\", hue=\"topic\", col=\"topic\", col_wrap=2, aspect=5, height=2)"
      ],
      "metadata": {
        "id": "Ocgr-jjmbrbj"
      },
      "execution_count": null,
      "outputs": []
    },
    {
      "cell_type": "markdown",
      "source": [
        "## 4. 문자 전처리 하기(p.130)\n",
        "### ★ 단어 가방 모형 :  단어 사전이 너무 많아지면 학습 속도가 오래 걸리거나 과적합 발생\n",
        "#### - 불필요한 문자 제거\n",
        "#### - 형태소 분석기를 사용해 불필요한 조사 제거\n",
        "#### - 형태소를 표기해서 같은 단어지만 다른 의미를 갖는 단어 구분하기"
      ],
      "metadata": {
        "id": "iXNkwwBdb1jN"
      }
    },
    {
      "cell_type": "markdown",
      "source": [
        "\n",
        "### ★ 숫자 제거\n",
        "#### - 이번 예제에서는 숫자에 큰 의미가 없으므로 제거함.\n"
      ],
      "metadata": {
        "id": "nwgJB0R8exPB"
      }
    },
    {
      "cell_type": "code",
      "source": [
        "import re\n",
        "df[\"title\"]=df[\"title\"].str.replace(\"[0-9]\",\"\",regex=True)\n",
        "df.head()"
      ],
      "metadata": {
        "id": "NjlUcQ5ke3vC"
      },
      "execution_count": null,
      "outputs": []
    },
    {
      "cell_type": "markdown",
      "source": [
        "### ★영문자는 모두 소문자로 변경\n",
        "#### - 파이썬은 대. 소문자를 다른 단어로 인식하여 다르게 분류함.\n",
        "#### - 이 예제에서는 대소문자를 같은 단어로 인식하여야 하므로 모두 소문자로 변환"
      ],
      "metadata": {
        "id": "XqROqCWufP1K"
      }
    },
    {
      "cell_type": "code",
      "source": [
        "df[\"title\"]=df[\"title\"].str.lower()\n",
        "df.head()"
      ],
      "metadata": {
        "id": "GfUAqBWIfUW6"
      },
      "execution_count": null,
      "outputs": []
    },
    {
      "cell_type": "markdown",
      "source": [
        "### ★ 형태소 분석기로 조사, 어미, 구두점 제거\n",
        "#### - KoNLPy을 이용하여 품사 태깅 / 조사, 어미, 구두점 제거 하기\n",
        "#### * 품사 태깅 작업은 오래 걸린다.(tqdm으로 진행상태 확인)\n",
        "#### * Kkma, Komoran, Hannanum, Okt, Mecab 형태소 분석기 중 Okt 사용"
      ],
      "metadata": {
        "id": "-gbXGSDGfbd6"
      }
    },
    {
      "cell_type": "markdown",
      "source": [
        "##### 형태소 분석 간단 샘플"
      ],
      "metadata": {
        "id": "xrLGtMThglyw"
      }
    },
    {
      "cell_type": "code",
      "source": [
        "from konlpy.tag import Okt\n",
        "\n",
        "small_text=\"아버지가 방에 들어가신다.\"\n",
        "%time Okt().pos(small_text)"
      ],
      "metadata": {
        "id": "Z53pGleefZcG"
      },
      "execution_count": null,
      "outputs": []
    },
    {
      "cell_type": "code",
      "source": [
        "from konlpy.tag import Okt\n",
        "okt=Okt()\n",
        "\n",
        "#조사, 어미, 구두점 제거, 어간 추출\n",
        "def okt_clean(text) :\n",
        "  clean_text=[]\n",
        "  for word in okt.pos(text, stem=True) :\n",
        "    if word[1] not in['Josa','Emoi','Punctuation'] :\n",
        "      clean_text.append(word[0])\n",
        "    return \" \".join(clean_text)\n",
        "\n",
        "from tqdm import tqdm\n",
        "tqdm.pandas()\n",
        "\n",
        "train['title']=train['title'].progress_map(okt_clean)\n",
        "test['title']=test['title'].progress_map(okt_clean)\n"
      ],
      "metadata": {
        "id": "hGQaw3q-g3c4"
      },
      "execution_count": null,
      "outputs": []
    },
    {
      "cell_type": "markdown",
      "source": [
        "### ★불용어 제거\n",
        "#### - split으로 문자열을 분리해 토큰 형태로 생성한다\n",
        "#### - 불용어 목록을 리스트로 만든다\n",
        "#### - 문서의 토큰이 불용어에 해당되지 않는 것을 리스트로 반환한다.\n",
        "#### - 불용어를 제거했다면 다시 문장 하나로 합쳐 준다."
      ],
      "metadata": {
        "id": "98KWSvqTEmq-"
      }
    },
    {
      "cell_type": "code",
      "source": [
        "def remove_stopwords(text) :\n",
        "  tokens=text.split(' ') #공백 단위로 자르기\n",
        "  stops=['합니다','하는','할','하고','한다','그리고','입니다','그','등','이런',' 것',' 및',' 제 ',' 더 ']\n",
        "  meaningful_words=[w for w in tokens if not w in stops]\n",
        "  return ' '.join(meaningful_words)\n",
        "\n",
        "  df['title']=df['title'].map(remove_stopwords)\n"
      ],
      "metadata": {
        "id": "zKQwQDY-E-4C"
      },
      "execution_count": null,
      "outputs": []
    },
    {
      "cell_type": "markdown",
      "source": [
        "## 7. 트레이닝 데이터, 시험 데이터 분리하기\n",
        "#### - topic_idx에 따라 분류할 수 있다.\n",
        "#### - 판다스pandas의 notnull(), isnull() 활용"
      ],
      "metadata": {
        "id": "aUwFFrQlGMXo"
      }
    },
    {
      "cell_type": "code",
      "source": [
        "label_name=\"topic_idx\"\n",
        "\n",
        "train=df[df[label_name].notnull()]\n",
        "test=df[df[label_name].isnull()]\n",
        "\n",
        "train.head()"
      ],
      "metadata": {
        "id": "1rJNy62lGhsM"
      },
      "execution_count": null,
      "outputs": []
    },
    {
      "cell_type": "code",
      "source": [
        "test.head()"
      ],
      "metadata": {
        "id": "9_kGi1g_G3hp"
      },
      "execution_count": null,
      "outputs": []
    },
    {
      "cell_type": "code",
      "source": [
        " train.shape, test.shape"
      ],
      "metadata": {
        "id": "Hh13arDfC1N6"
      },
      "execution_count": null,
      "outputs": []
    },
    {
      "cell_type": "code",
      "source": [
        "X_train=train[\"title\"]\n",
        "X_test=test[\"title\"]\n",
        "\n",
        "print(type(X_train), type(X_test))"
      ],
      "metadata": {
        "id": "vNkzof6iys9m"
      },
      "execution_count": null,
      "outputs": []
    },
    {
      "cell_type": "code",
      "source": [
        "X_train.shape, X_test.shape"
      ],
      "metadata": {
        "id": "kNivKnYkEgv_"
      },
      "execution_count": null,
      "outputs": []
    },
    {
      "cell_type": "code",
      "source": [
        "#트레이닝 데이터 세트의 topic별 갯수 확인\n",
        "y_train=train[label_name]\n",
        "y_train.value_counts()"
      ],
      "metadata": {
        "id": "gSqf4e2wCKeQ"
      },
      "execution_count": null,
      "outputs": []
    },
    {
      "cell_type": "code",
      "source": [
        "#테스트 데이터 세트의 topic별 갯수 확인\n",
        "y_test=test[label_name]\n",
        "y_test.value_counts()"
      ],
      "metadata": {
        "id": "vql47V7cCVoz"
      },
      "execution_count": null,
      "outputs": []
    },
    {
      "cell_type": "markdown",
      "source": [
        "## 6. 단어 벡터화하기\n",
        "#### - 사이킷런(sklearn)의 TFidVectorizer를 이용하여 단어가방벡터 만들기"
      ],
      "metadata": {
        "id": "-hq15_pVHlAF"
      }
    },
    {
      "cell_type": "code",
      "source": [
        "from sklearn.feature_extraction.text import TfidfVectorizer\n",
        "\n",
        "tfidf_vect=TfidfVectorizer(tokenizer=None,\n",
        "                         ngram_range=(1,2),\n",
        "                         min_df=3,\n",
        "                         max_df=0.95)\n",
        "\n",
        "#트레이닝용 데이터의 title컬럼의 값을 벡터화\n",
        "tfidf_vect.fit(X_train)\n",
        "type(X_train)"
      ],
      "metadata": {
        "id": "I2wwRutWxTEF"
      },
      "execution_count": null,
      "outputs": []
    },
    {
      "cell_type": "code",
      "source": [
        "train_feature_tfidf=tfidf_vect.transform(X_train)      #벡터 행렬로 변환\n",
        "test_feature_tfidf=tfidf_vect.transform(X_test)\n",
        "\n",
        "train_feature_tfidf.shape, test_feature_tfidf.shape"
      ],
      "metadata": {
        "id": "RAARV6AK0FB_"
      },
      "execution_count": null,
      "outputs": []
    },
    {
      "cell_type": "code",
      "source": [
        "vocab=tfidf_vect.get_feature_names_out()\n",
        "print(len(vocab))\n",
        "vocab[:10]"
      ],
      "metadata": {
        "id": "Jip4p-ye02HJ"
      },
      "execution_count": null,
      "outputs": []
    },
    {
      "cell_type": "code",
      "source": [
        "dist=np.sum(train_feature_tfidf, axis=0)\n",
        "\n",
        "vocab_count=pd.DataFrame(dist, columns=vocab)\n",
        "vocab_count"
      ],
      "metadata": {
        "id": "U4zUmof01er8"
      },
      "execution_count": null,
      "outputs": []
    },
    {
      "cell_type": "code",
      "source": [
        "vocab_count.T[0].sort_values(ascending=False).head(50).plot.bar(figsize=(15,4))"
      ],
      "metadata": {
        "id": "ks2bqodg1zoc"
      },
      "execution_count": null,
      "outputs": []
    },
    {
      "cell_type": "markdown",
      "source": [
        "## 7. 학습과 예측하기\n",
        "### 1) 랜덤 포레스트 분류기 생성하기(p.144)\n",
        "#### - 랜덤 포레스트 : 여러 개의 결정 트리를 만들어 학습과 예측을 함\n",
        "#### - 사이킷런 라이브러리 이용"
      ],
      "metadata": {
        "id": "BtcU1qCN2wVg"
      }
    },
    {
      "cell_type": "code",
      "source": [
        "#RandomForestClassifier를 불러 온다\n",
        "#.\n",
        "#랜덤 포레스트 분류기를 사용하여 결정트리 100,모든 CPU의 코어를 사용, random 시드값 42로 설정하기\n",
        "#.\n",
        "model"
      ],
      "metadata": {
        "id": "-Vwr2sUf2vnq"
      },
      "execution_count": null,
      "outputs": []
    },
    {
      "cell_type": "code",
      "source": [
        "from sklearn.model_selection import cross_val_predict\n",
        "y_pred=cross_val_predict(model, train_feature_tfidf, y_train, cv=3, n_jobs=-1, verbose=1)"
      ],
      "metadata": {
        "id": "F-e1G6sGAZ48"
      },
      "execution_count": null,
      "outputs": []
    },
    {
      "cell_type": "code",
      "source": [
        "#교차검증 정확도\n",
        "valid_accuracy=(y_pred==y_train).mean()\n",
        "valid_accuracy"
      ],
      "metadata": {
        "id": "iif9QyvfM2xn"
      },
      "execution_count": null,
      "outputs": []
    },
    {
      "cell_type": "code",
      "source": [
        "df_accuracy=pd.DataFrame({\"pred\":y_pred, \"train\":y_train})\n",
        "df_accuracy[\"accuracy\"]=(y_pred==y_train)"
      ],
      "metadata": {
        "id": "gBW0NAQoAlWJ"
      },
      "execution_count": null,
      "outputs": []
    },
    {
      "cell_type": "markdown",
      "source": [
        "### 2)생성된 랜덤 포레스트 분류기로 학습하고, 평가하기\n",
        "#### - fit()으로 학습하고, predict()로 예측함"
      ],
      "metadata": {
        "id": "_3gC1fsPNZ6e"
      }
    },
    {
      "cell_type": "code",
      "source": [
        "#학습 : fit\n",
        "#."
      ],
      "metadata": {
        "id": "92DQW58tNhw5"
      },
      "execution_count": null,
      "outputs": []
    },
    {
      "cell_type": "code",
      "source": [
        "#예측 : predict\n",
        "#.\n",
        "#10개의 타이틀을 예측한 결과 확인\n",
        "y_predict[:10]"
      ],
      "metadata": {
        "id": "kLswBRUQOEKM"
      },
      "execution_count": null,
      "outputs": []
    }
  ]
}