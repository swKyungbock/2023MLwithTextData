{
  "cells": [
    {
      "cell_type": "markdown",
      "metadata": {
        "id": "view-in-github",
        "colab_type": "text"
      },
      "source": [
        "<a href=\"https://colab.research.google.com/github/swKyungbock/2023MLwithTextData/blob/main/8%EC%9E%A5_%EC%9D%B8%ED%94%84%EB%9F%B0%EC%83%88%ED%95%B4%EB%8B%A4%EC%A7%90%EB%8C%93%EA%B8%80%EB%B6%84%EC%84%9D.ipynb\" target=\"_parent\"><img src=\"https://colab.research.google.com/assets/colab-badge.svg\" alt=\"Open In Colab\"/></a>"
      ]
    },
    {
      "cell_type": "markdown",
      "metadata": {
        "id": "8-nSjvLMBIa3"
      },
      "source": [
        "## 인프런 2020년 새해 다짐 이벤트 댓글 분석(군집화)\n"
      ]
    },
    {
      "cell_type": "markdown",
      "metadata": {
        "id": "6PS7JxMbBIa7"
      },
      "source": [
        "## 라이브러리 로드"
      ]
    },
    {
      "cell_type": "code",
      "execution_count": null,
      "metadata": {
        "id": "-lwiBQ-XBIa7"
      },
      "outputs": [],
      "source": [
        "import re\n",
        "import pandas as pd\n",
        "import numpy as np\n",
        "import matplotlib.pyplot as plt"
      ]
    },
    {
      "cell_type": "markdown",
      "metadata": {
        "id": "Bvcf0KM1BIa-"
      },
      "source": [
        "## 데이터로드하기"
      ]
    },
    {
      "cell_type": "code",
      "execution_count": null,
      "metadata": {
        "id": "npwNu3VnBIa-",
        "scrolled": true
      },
      "outputs": [],
      "source": [
        "# df 라는 변수에 이벤트 댓글 파일을 로드합니다.\n",
        "df = pd.read_csv(\"https://bit.ly/inflearn-event-text-csv\")\n",
        "df.shape"
      ]
    },
    {
      "cell_type": "code",
      "execution_count": null,
      "metadata": {
        "id": "f8iB7SNsBIa-"
      },
      "outputs": [],
      "source": [
        "df.head()"
      ]
    },
    {
      "cell_type": "code",
      "execution_count": null,
      "metadata": {
        "id": "S1fxls7xBIa_"
      },
      "outputs": [],
      "source": [
        "# tail 로 일부보기\n",
        "df.tail()"
      ]
    },
    {
      "cell_type": "markdown",
      "metadata": {
        "id": "G6rPuEF0BIa_"
      },
      "source": [
        "## 데이터 전처리"
      ]
    },
    {
      "cell_type": "markdown",
      "metadata": {
        "id": "hqBkLRA9BIa_"
      },
      "source": [
        "### 네트워크 오류 등으로 발생한 중복 입력 값을 제거\n",
        "* 빈도 수 중복을 방지하기 위해"
      ]
    },
    {
      "cell_type": "code",
      "execution_count": null,
      "metadata": {
        "id": "uVHHio1jBIbA"
      },
      "outputs": [],
      "source": [
        "# drop_duplicates 를 통해 중복을 제거하며, 이때 마지막 글을 남김\n",
        "print(df.shape)\n",
        "df = df.drop_duplicates([\"text\"], keep=\"last\")\n",
        "print(df.shape)"
      ]
    },
    {
      "cell_type": "markdown",
      "metadata": {
        "id": "AuByXFTrBIbA"
      },
      "source": [
        "### 원본은 따로 보존"
      ]
    },
    {
      "cell_type": "code",
      "execution_count": null,
      "metadata": {
        "id": "dVM3FRk-BIbA"
      },
      "outputs": [],
      "source": [
        "# 전처리 전에 원본을 보존하기 위해 origin_text 라는 컬럼에 복사\n",
        "df[\"origin_text\"] = df[\"text\"]\n",
        "df.head()"
      ]
    },
    {
      "cell_type": "markdown",
      "metadata": {
        "id": "APp_0BM9BIbA"
      },
      "source": [
        "### 소문자 변환"
      ]
    },
    {
      "cell_type": "code",
      "execution_count": null,
      "metadata": {
        "id": "fwhhp9xJBIbB"
      },
      "outputs": [],
      "source": [
        "# \"text\" 파이썬은 대소문자를 구분하기 때문에 데이터 필터링을 위해 대문자를 모두 소문자로 변경\n",
        "df[\"text\"] = df[\"text\"].str.lower()"
      ]
    },
    {
      "cell_type": "code",
      "execution_count": null,
      "metadata": {
        "id": "LUqkdzQ9BIbB",
        "scrolled": true
      },
      "outputs": [],
      "source": [
        "# 같은 의미의 단어를 하나로 통일 예) python => 파이썬\n",
        "# replace 는 텍스트가 완전히 일치될 때만 사용할 수 있음\n",
        "# 일부만 일치한다면 str.replace 를 사용하면 원하는 텍스트로 변경이 가능\n",
        "df[\"text\"] = df[\"text\"].str.replace(\n",
        "    \"python\", \"파이썬\").str.replace(\n",
        "    \"pandas\", \"판다스\").str.replace(\n",
        "    \"javascript\", \"자바스크립트\").str.replace(\n",
        "    \"java\", \"자바\").str.replace(\n",
        "    \"react\", \"리액트\")"
      ]
    },
    {
      "cell_type": "markdown",
      "metadata": {
        "id": "m45GzMj4BIbB"
      },
      "source": [
        "## 문자열 분리로 관심 강의 분리"
      ]
    },
    {
      "cell_type": "code",
      "execution_count": null,
      "metadata": {
        "id": "bm1mXxqABIbB",
        "scrolled": true
      },
      "outputs": [],
      "source": [
        "# 이 이벤트에는 \"관심강의\"라는 텍스트가 있음\n",
        "# \"관심강의\"를 기준으로 텍스트를 분리하고 관심강의 뒤에 있는 텍스트를 가져옴\n",
        "# 대부분 \"관심강의\"라는 텍스트를 쓰고 뒤에 강의명을 쓰기 때문\n",
        "# 전처리한 내용은 실수를 방지하기 위해 \"course\" 라는 새로운 컬럼에 담고\n",
        "# \"관심 강의\", \"관심 강좌\" 에 대해서도 똑같이 전처리\n",
        "# \":\" 특수문자를 빈문자로 변경\n",
        "\n",
        "df[\"course\"] = df[\"text\"].apply(lambda x: x.split(\"관심강의\")[-1])\n",
        "df[\"course\"] = df[\"course\"].apply(lambda x: x.split(\"관심 강의\")[-1])\n",
        "df[\"course\"] = df[\"course\"].apply(lambda x: x.split(\"관심 강좌\")[-1])\n",
        "df[\"course\"] = df[\"course\"].str.replace(\":\", \"\")\n",
        "df[\"course\"].head()"
      ]
    },
    {
      "cell_type": "code",
      "execution_count": null,
      "metadata": {
        "id": "F_fnL4s8BIbC"
      },
      "outputs": [],
      "source": [
        "# \"text\", \"course\" 전처리 내용 미리보기\n",
        "df[[\"text\", \"course\"]].head()"
      ]
    },
    {
      "cell_type": "markdown",
      "metadata": {
        "id": "YeusbDQyBIbC"
      },
      "source": [
        "## 띄어 쓰기를 제거한 텍스트에서 키워드 추출\n",
        "* TIOBE 프로그래밍 언어 순위 : [index | TIOBE - The Software Quality Company](https://www.tiobe.com/tiobe-index/?fbclid=IwAR34dJfgDHq2DK0C6X3g8IsUno2NhOiikMyxT6fw9SoyujFhy5FPvQogMoA)"
      ]
    },
    {
      "cell_type": "code",
      "execution_count": null,
      "metadata": {
        "id": "XipYvRtrBIbC"
      },
      "outputs": [],
      "source": [
        "# 특정 키워드가 들어가는 댓글을 찾음\n",
        "search_keyword = ['머신러닝', '딥러닝', '파이썬', '판다스', '공공데이터',\n",
        "                  'django', '크롤링', '시각화', '데이터분석',\n",
        "                  '웹개발', '엑셀', 'c', '자바', '자바스크립트',\n",
        "                  'node', 'vue', '리액트']\n",
        "\n",
        "# for 문을 통해 해당 키워드가 있는지 여부를 True, False값으로 표시하도록 함\n",
        "# 키워드에 따라 컬럼을 새로 만듭니다.\n",
        "for keyword in search_keyword:\n",
        "    df[keyword] = df[\"course\"].str.contains(keyword)"
      ]
    },
    {
      "cell_type": "code",
      "execution_count": null,
      "metadata": {
        "id": "ZmEPMl8fBIbC"
      },
      "outputs": [],
      "source": [
        "# 미리보기\n",
        "df.head()"
      ]
    },
    {
      "cell_type": "code",
      "execution_count": null,
      "metadata": {
        "id": "sOHNchsQBIbD",
        "scrolled": true
      },
      "outputs": [],
      "source": [
        "# 파이썬|공공데이터|판다스 라는 텍스트가 들어가는 데이터가 있는지 찾음\n",
        "df_python = df[df[\"text\"].str.contains(\"파이썬|공공데이터|판다스\")].copy()\n",
        "df_python.shape"
      ]
    },
    {
      "cell_type": "code",
      "execution_count": null,
      "metadata": {
        "id": "Rkc7ANtFBIbD",
        "scrolled": true
      },
      "outputs": [],
      "source": [
        "# 결과를 모두 더하면 해당 키워드의 등장 빈도수를 카운트\n",
        "# search_keyword 컬럼만 가져와서 빈도수를 sum으로 합계를 구함\n",
        "df[search_keyword].sum().sort_values(ascending=False)"
      ]
    },
    {
      "cell_type": "code",
      "execution_count": null,
      "metadata": {
        "id": "BUt8S06jBIbD"
      },
      "outputs": [],
      "source": [
        "# 공공데이터 텍스트가 들어가는 문장만 찾음\n",
        "# pandas 를 통해 볼때 문장이 길면 끝까지 보이지 않음\n",
        "# 문장의 전체를 보기 위해 for문을 통해 해당 텍스트를 순회하며 출력\n",
        "# 이 때, 데이터 사이에 ------ 줄로 구분해서 표시하도록 함\n",
        "text = df.loc[(df[\"공공데이터\"] == True), \"text\"]\n",
        "for t in text:\n",
        "    print(\"-\"*20)\n",
        "    print(t)"
      ]
    },
    {
      "cell_type": "markdown",
      "metadata": {
        "id": "B6YqsciHBIbD"
      },
      "source": [
        "## 판다스 단어가 들어가는 텍스트만 찾기\n",
        "* 이미 str.contains 를 통해 판다스가 들어가는 텍스트에 대해 컬럼을 만들어 놨습니다. 이 값이  True 라면 판다스 강좌 입니다."
      ]
    },
    {
      "cell_type": "code",
      "execution_count": null,
      "metadata": {
        "id": "uxkD3wzABIbD",
        "scrolled": true
      },
      "outputs": [],
      "source": [
        "# pandas 라는 텍스트가 들어가는 내용만 찾음\n",
        "\n",
        "df.loc[df[\"판다스\"] == True, \"text\"]"
      ]
    },
    {
      "cell_type": "markdown",
      "metadata": {
        "id": "L2Hj7SKJBIbE"
      },
      "source": [
        "## 빈도수 계산을 위한 텍스트 데이터 벡터화\n",
        "* BOW 단어 가방에 단어를 토큰화 해서 담아줌"
      ]
    },
    {
      "cell_type": "code",
      "execution_count": null,
      "metadata": {
        "id": "GbEGG6N1BIbE"
      },
      "outputs": [],
      "source": [
        "# split으로 \"파이썬 데이터 분석\" 이라는 텍스트를 토큰화\n",
        "\"파이썬 데이터 분석\".split()"
      ]
    },
    {
      "cell_type": "code",
      "execution_count": null,
      "metadata": {
        "id": "pjbVAqJ8BIbE"
      },
      "outputs": [],
      "source": [
        "# 사이킷런의 CountVectorizer 를 통해 벡터화\n",
        "from sklearn.feature_extraction.text import CountVectorizer\n",
        "\n",
        "vectorizer = CountVectorizer(\n",
        "    analyzer = 'word', # 캐릭터 단위로 벡터화 할 수도 있음\n",
        "    tokenizer = None, # 토크나이저를 따로 지정해 줄 수도 있음\n",
        "    preprocessor = None, # 전처리 도구\n",
        "    stop_words = None, # 불용어 nltk등의 도구를 사용할 수도 있음\n",
        "    min_df = 2, # 토큰이 나타날 최소 문서 개수로 오타나 자주 나오지 않는 특수한 전문용어 제거에 좋음\n",
        "    ngram_range=(3, 6), # BOW의 단위 갯수의 범위를 지정\n",
        "    max_features = 2000 # 만들 피처의 수, 단어의 수\n",
        "    )\n",
        "vectorizer"
      ]
    },
    {
      "cell_type": "code",
      "execution_count": null,
      "metadata": {
        "id": "bP6znpjJBIbE"
      },
      "outputs": [],
      "source": [
        "# df['course'] 만 벡터화\n",
        "feature_vector = vectorizer.fit_transform(df['course'])\n",
        "feature_vector.shape"
      ]
    },
    {
      "cell_type": "code",
      "execution_count": null,
      "metadata": {
        "id": "BLmxi-ruBIbE"
      },
      "outputs": [],
      "source": [
        "# vectorizer 에서 get_feature_names 를 추출\n",
        "vocab = vectorizer.get_feature_names_out()\n",
        "print(len(vocab))\n",
        "vocab[:10]"
      ]
    },
    {
      "cell_type": "code",
      "execution_count": null,
      "metadata": {
        "id": "EJsGp2tWBIbE"
      },
      "outputs": [],
      "source": [
        "# 각 리뷰마다 등장하는 단어에 빈도수가 표현됨 0 은 등장하지 않음을 의미\n",
        "pd.DataFrame(feature_vector[:10].toarray(), columns=vocab).head()"
      ]
    },
    {
      "cell_type": "code",
      "execution_count": null,
      "metadata": {
        "id": "turvJQdCBIbF"
      },
      "outputs": [],
      "source": [
        "# 위에서 구한 단어벡터를 더하면 단어가 전체에서 등장하는 횟수를 알 수 있음\n",
        "# 벡터화 된 피처를 확인해 봄\n",
        "# Bag of words 에 몇 개의 단어가 들어있는지 확인\n",
        "dist = np.sum(feature_vector, axis=0)\n",
        "\n",
        "df_freq = pd.DataFrame(dist, columns=vocab)\n",
        "df_freq"
      ]
    },
    {
      "cell_type": "code",
      "execution_count": null,
      "metadata": {
        "id": "ly3KmKS_BIbF"
      },
      "outputs": [],
      "source": [
        "# 행과 열의 축을 T로 바꿔주고 빈도수로 정렬\n",
        "df_freq.T.sort_values(by=0, ascending=False).head(30)"
      ]
    },
    {
      "cell_type": "code",
      "execution_count": null,
      "metadata": {
        "id": "20O0wEiIBIbF"
      },
      "outputs": [],
      "source": [
        "# [\"course\", \"freq\"] 라는 컬럼명을 주어 위에서 만든 데이터프레임을 변환\n",
        "df_freq_T = df_freq.T.reset_index()\n",
        "df_freq_T.columns = [\"course\", \"freq\"]\n",
        "df_freq_T.head()"
      ]
    },
    {
      "cell_type": "code",
      "execution_count": null,
      "metadata": {
        "id": "rjM2RVAKBIbF"
      },
      "outputs": [],
      "source": [
        "# 강의명을 토큰 3개로 중복제거하기 위해, 강좌명에서 지식공유자의 이름을 빈문자열로 변경\n",
        "# 강의명을 lambda 식을 사용해서 x.split() 으로 나누고 [:4] 앞에서 4개까지만 텍스트를 가져오고 다시 join으로 합쳐줌\n",
        "# 중복된 텍스트를 구분해서 보기 위함\n",
        "df_freq_T[\"course_find\"] = df_freq_T[\"course\"].str.replace(\"박조은\", \"\")\n",
        "df_freq_T[\"course_find\"] = df_freq_T[\"course_find\"].apply(lambda x : \" \". join(x.split()[:4]))\n",
        "df_freq_T.sort_values([\"course_find\", \"freq\"], ascending=False).head(10)"
      ]
    },
    {
      "cell_type": "code",
      "execution_count": null,
      "metadata": {
        "id": "mldva_YmBIbF"
      },
      "outputs": [],
      "source": [
        "# 3개의 ngram과 빈도수로 역순 정렬을 하게 되면 빈도수가 높고, ngram수가 많은 순으로 정렬이 됨\n",
        "# 여기에서 drop_duplicates로 첫 번째 강좌를 남기고 나머지 중복을 삭제\n",
        "print(df_freq_T.shape)\n",
        "df_course = df_freq_T.drop_duplicates([\"course_find\", \"freq\"], keep=\"first\")\n",
        "print(df_course.shape)"
      ]
    },
    {
      "cell_type": "code",
      "execution_count": null,
      "metadata": {
        "id": "Mg-RnCUKBIbF"
      },
      "outputs": [],
      "source": [
        "# 빈도수로 정렬을 하고 어떤 강좌가 댓글에서 가장 많이 언급되었는지 봄\n",
        "df_course = df_course.sort_values(by=\"freq\", ascending=False)\n",
        "df_course.head(20)"
      ]
    },
    {
      "cell_type": "code",
      "execution_count": null,
      "metadata": {
        "id": "2UA82ENcBIbG"
      },
      "outputs": [],
      "source": [
        "# 전처리가 다 되었다면 다른 팀 또는 담당자에게 전달하기 위해 csv 형태로 저장\n",
        "df_course.to_csv(\"event-course-name-freq.csv\")"
      ]
    },
    {
      "cell_type": "markdown",
      "metadata": {
        "id": "GZk1hKdLBIbG"
      },
      "source": [
        "## TF-IDF 로 가중치를 주어 벡터화\n",
        "### TfidfTransformer()\n"
      ]
    },
    {
      "cell_type": "code",
      "execution_count": null,
      "metadata": {
        "id": "jtOtCDXKBIbG"
      },
      "outputs": [],
      "source": [
        "# TfidfTransformer 를 불러와서 가중치를 주어 벡터화\n",
        "# transformer 라는 변수로 저장하고 재사용합니다.\n",
        "from sklearn.feature_extraction.text import TfidfTransformer\n",
        "tfidftrans = TfidfTransformer(smooth_idf=False)\n",
        "tfidftrans"
      ]
    },
    {
      "cell_type": "code",
      "execution_count": null,
      "metadata": {
        "id": "MyGBOTgOBIbG"
      },
      "outputs": [],
      "source": [
        "feature_tfidf = tfidftrans.fit_transform(feature_vector)\n",
        "feature_tfidf.shape"
      ]
    },
    {
      "cell_type": "code",
      "execution_count": null,
      "metadata": {
        "id": "eC3FOTP2BIbG"
      },
      "outputs": [],
      "source": [
        "tfidf_freq = pd.DataFrame(feature_tfidf.toarray(), columns=vocab)\n",
        "tfidf_freq.head()"
      ]
    },
    {
      "cell_type": "code",
      "execution_count": null,
      "metadata": {
        "id": "KAiJZeduBIbG"
      },
      "outputs": [],
      "source": [
        "df_tfidf = pd.DataFrame(tfidf_freq.sum())\n",
        "df_tfidf_top = df_tfidf.sort_values(by=0, ascending=False)\n",
        "df_tfidf_top.head(10)"
      ]
    },
    {
      "cell_type": "code",
      "execution_count": null,
      "metadata": {
        "id": "2oZkoSMSBIbH"
      },
      "outputs": [],
      "source": [
        "# 중간에 생략되는 단어를 자세히 보고자 할 때\n",
        "for t in df_tfidf_top.index[:30]:\n",
        "    print(t)"
      ]
    },
    {
      "cell_type": "markdown",
      "metadata": {
        "id": "KPqDEEHaBIbH"
      },
      "source": [
        "## 군집화\n",
        "* 실루엣 분석추가 https://www.kaggle.com/fabiendaniel/customer-segmentation\n",
        "### KMeans"
      ]
    },
    {
      "cell_type": "code",
      "execution_count": null,
      "metadata": {
        "id": "_IaVwNcPBIbH"
      },
      "outputs": [],
      "source": [
        "from sklearn.cluster import KMeans\n",
        "from tqdm import trange\n",
        "inertia = []\n",
        "\n",
        "start = 10\n",
        "end = 70\n",
        "\n",
        "# 적절한 클러스터의 갯수를 알기 위해 inertia 값을 구함\n",
        "# trange 를 통해 시작과 끝 값을 지정해 주면 진행 정도를 알 수 있습니다.\n",
        "# 학습을 할 때는 feature_tfidf 값을 사용합니다.\n",
        "# cls.inertia_ 값을 inertia 리스트에 저장합니다.\n",
        "for i in trange(start, end):\n",
        "    kmeans = KMeans(n_clusters=i, random_state=42)\n",
        "    kmeans.fit(feature_tfidf)\n",
        "    inertia.append(kmeans.inertia_)"
      ]
    },
    {
      "cell_type": "code",
      "source": [
        "!pip install koreanize-matplotlib"
      ],
      "metadata": {
        "id": "njUoN5CJmZyo"
      },
      "execution_count": null,
      "outputs": []
    },
    {
      "cell_type": "code",
      "source": [
        "import koreanize_matplotlib\n",
        "#그래프에 retina display 적용\n",
        "%config InlineBackend.figure_format='retina'"
      ],
      "metadata": {
        "id": "TgWziVVcmi2y"
      },
      "execution_count": null,
      "outputs": []
    },
    {
      "cell_type": "code",
      "execution_count": null,
      "metadata": {
        "id": "DewJGA5HBIbH"
      },
      "outputs": [],
      "source": [
        "# 위에서 구한 값을 시각화\n",
        "# x축에는 클러스터의 수를 y축에는 inertia 값을 넣어 그림\n",
        "\n",
        "plt.plot(range(start, end), inertia)\n",
        "plt.title(\"KMeans 클러스터 수 비교\")"
      ]
    },
    {
      "cell_type": "markdown",
      "metadata": {
        "id": "ikSiyg7NBIbH"
      },
      "source": [
        "* 적정한 클러스터 갯수를 넣어 군집화 합니다."
      ]
    },
    {
      "cell_type": "code",
      "execution_count": null,
      "metadata": {
        "id": "vIk4Z25KBIbH"
      },
      "outputs": [],
      "source": [
        "# n_clusters 에 적절한 값을 넣어줌\n",
        "# fit.predict 를 하고 결과를 cluster 라는 새로운 컬럼에 담음\n",
        "n_clusters = 50\n",
        "kmeans = KMeans(n_clusters=n_clusters, random_state=42)\n",
        "kmeans.fit(feature_tfidf)\n",
        "prediction = kmeans.predict(feature_tfidf)\n",
        "df[\"cluster\"] = prediction"
      ]
    },
    {
      "cell_type": "code",
      "execution_count": null,
      "metadata": {
        "id": "j8-SJZ71BIbI"
      },
      "outputs": [],
      "source": [
        "# df[\"cluster\"] 의 빈도수를 value_counts로 세어봅니다.\n",
        "df[\"cluster\"].value_counts().head(10)"
      ]
    },
    {
      "cell_type": "markdown",
      "metadata": {
        "id": "GybUGQHMBIbI"
      },
      "source": [
        "### MiniBatchKMeans\n",
        "* [Comparison of the K-Means and MiniBatchKMeans clustering algorithms — scikit-learn documentation](https://scikit-learn.org/stable/auto_examples/cluster/plot_mini_batch_kmeans.html)"
      ]
    },
    {
      "cell_type": "code",
      "execution_count": null,
      "metadata": {
        "id": "nfEAI1TXBIbJ"
      },
      "outputs": [],
      "source": [
        "# batch_size 를 쓸 수 있는 MiniBatchKMeans 로 군집화\n",
        "from sklearn.cluster import MiniBatchKMeans\n",
        "from sklearn.metrics import silhouette_score\n",
        "b_inertia = []\n",
        "silhouettes = []\n",
        "\n",
        "# 적절한 클러스터의 갯수를 알기 위해 inertia 값을 구함\n",
        "# trange 를 통해 시작과 끝 값을 지정해 주면 진행 상태를 확인 할 수 있음\n",
        "# b_inertia 리스트에 cls.inertia_ 값을 넣어줍니다.\n",
        "for i in trange(start, end):\n",
        "    mkmeans = MiniBatchKMeans(n_clusters=i, random_state=42)\n",
        "    mkmeans.fit(feature_tfidf)\n",
        "    b_inertia.append(mkmeans.inertia_)\n",
        "    silhouettes.append(silhouette_score(feature_tfidf, mkmeans.labels_))"
      ]
    },
    {
      "cell_type": "code",
      "execution_count": null,
      "metadata": {
        "id": "TNK758SgBIbJ"
      },
      "outputs": [],
      "source": [
        "# 위에서 구한 값을 시각화 합니다.\n",
        "# x축에는 클러스터의 수를 y축에는 b_inertia 값을 넣어 시각화\n",
        "plt.plot(range(start, end), b_inertia)\n",
        "plt.title(\"MiniBatchKMeans 클러스터 수 비교\")"
      ]
    },
    {
      "cell_type": "code",
      "execution_count": null,
      "metadata": {
        "id": "RvrzMGb4BIbJ"
      },
      "outputs": [],
      "source": [
        "plt.figure(figsize=(15, 4))\n",
        "plt.title('Silhouette Score')\n",
        "plt.plot(range(start, end), silhouettes)\n",
        "plt.xticks(range(start, end))\n",
        "plt.show()"
      ]
    },
    {
      "cell_type": "code",
      "execution_count": null,
      "metadata": {
        "id": "2q6M2c8viSSM"
      },
      "outputs": [],
      "source": [
        "# yellowbrick 은 머신러닝 시각화 도구로 별도의 설치가 필요\n",
        "!pip install yellowbrick"
      ]
    },
    {
      "cell_type": "code",
      "execution_count": null,
      "metadata": {
        "id": "USom2SiWiSSM"
      },
      "outputs": [],
      "source": [
        "# yellowbrick.cluster 에서 KElbowVisualizer 불러오기\n",
        "from yellowbrick.cluster import KElbowVisualizer\n",
        "\n",
        "KElbowM = KElbowVisualizer(kmeans, k=(start, end))\n",
        "KElbowM.fit(feature_tfidf.toarray())\n",
        "KElbowM.show()"
      ]
    },
    {
      "cell_type": "code",
      "execution_count": null,
      "metadata": {
        "id": "uB_Vx-LmBIbJ"
      },
      "outputs": [],
      "source": [
        "# MiniBatchKMeans 를 통해 학습\n",
        "# 결과를 bcluster 라는 변수에 저장\n",
        "mkmeans = MiniBatchKMeans(n_clusters=n_clusters, random_state=42)\n",
        "mkmeans.fit(feature_tfidf)\n",
        "prediction = mkmeans.predict(feature_tfidf)\n",
        "df[\"bcluster\"] = prediction"
      ]
    },
    {
      "cell_type": "code",
      "execution_count": null,
      "metadata": {
        "id": "7lO5HiacBIbJ"
      },
      "outputs": [],
      "source": [
        "# bcluster의 빈도수\n",
        "df[\"bcluster\"].value_counts().head(10)"
      ]
    },
    {
      "cell_type": "code",
      "execution_count": null,
      "metadata": {
        "id": "b132rhKjBIbJ"
      },
      "outputs": [],
      "source": [
        "# 어떤 강좌명이 있는지 특정 클러스터의 값을 봄\n",
        "df.loc[df[\"bcluster\"] == 21, \"course\"].value_counts().head(1)"
      ]
    },
    {
      "cell_type": "code",
      "execution_count": null,
      "metadata": {
        "id": "89Hz-4EuBIbK"
      },
      "outputs": [],
      "source": [
        "df.loc[df[\"bcluster\"] == 21, [\"bcluster\", \"cluster\", \"course\"]]"
      ]
    },
    {
      "cell_type": "code",
      "execution_count": null,
      "metadata": {
        "id": "dqIgLTTkBIbK"
      },
      "outputs": [],
      "source": [
        "df.loc[df[\"bcluster\"] == 24, [\"bcluster\", \"cluster\", \"origin_text\", \"course\"]].tail(10)"
      ]
    },
    {
      "cell_type": "markdown",
      "metadata": {
        "id": "tQe-VJW1BIbK"
      },
      "source": [
        "### 클러스터 예측 평가하기"
      ]
    },
    {
      "cell_type": "code",
      "execution_count": null,
      "metadata": {
        "id": "JDsb58coBIbK"
      },
      "outputs": [],
      "source": [
        "# n_clusters 위에서 정의한 클러스터 수를 사용\n",
        "feature_array = feature_vector.toarray()\n",
        "# 예측한 클러스터의 유니크 값\n",
        "labels = np.unique(prediction)\n",
        "df_cluster_score = []\n",
        "df_cluster = []\n",
        "for label in labels:\n",
        "    id_temp = np.where(prediction==label) # 예측한 값이 클러스터 번호와 매치 되는 것을 가져옴\n",
        "    x_means = np.mean(feature_array[id_temp], axis = 0) # 클러스터의 평균 값을 구함\n",
        "    sorted_means = np.argsort(x_means)[::-1][:n_clusters] # 값을 역순으로 정렬해서 클러스터 수 만큼 가져옴\n",
        "    features = vectorizer.get_feature_names_out()\n",
        "    best_features = [(features[i], x_means[i]) for i in sorted_means]\n",
        "    # 클러스터별 전체 스코어\n",
        "    df_score = pd.DataFrame(best_features, columns = ['features', 'score'])\n",
        "    df_cluster_score.append(df_score)\n",
        "    # 클러스터 대표 키워드\n",
        "    df_cluster.append(best_features[0])"
      ]
    },
    {
      "cell_type": "code",
      "execution_count": null,
      "metadata": {
        "id": "4cZVGEdBBIbK"
      },
      "outputs": [],
      "source": [
        "# 개별 클러스터에서 점수가 가장 높은 단어를 추출 아래 점수가 클수록 예측 정확도가 높음\n",
        "# MiniBatchKMeans 로 예측한 값 기준\n",
        "pd.DataFrame(df_cluster, columns = ['features', 'score']).sort_values(by=[\"features\", \"score\"], ascending=False)"
      ]
    },
    {
      "cell_type": "code",
      "execution_count": null,
      "metadata": {
        "id": "NIYGbZeRBIbK"
      },
      "outputs": [],
      "source": [
        "# score 정확도가 1이 나온 클러스터를 찾아봄 - 같은 강좌끼리 묶였는지 확인 함\n",
        "df.loc[df[\"bcluster\"] == 28, [\"bcluster\", \"cluster\", \"origin_text\", \"course\"]]"
      ]
    },
    {
      "cell_type": "code",
      "execution_count": null,
      "metadata": {
        "id": "1AlSL6yXiSSP"
      },
      "outputs": [],
      "source": [
        "from yellowbrick.cluster import SilhouetteVisualizer\n",
        "visualizer = SilhouetteVisualizer(mkmeans, colors='yellowbrick')\n",
        "\n",
        "visualizer.fit(feature_tfidf.toarray())\n",
        "visualizer.show()"
      ]
    }
  ],
  "metadata": {
    "colab": {
      "provenance": [],
      "include_colab_link": true
    },
    "kernelspec": {
      "display_name": "Python 3 (ipykernel)",
      "language": "python",
      "name": "python3"
    },
    "language_info": {
      "codemirror_mode": {
        "name": "ipython",
        "version": 3
      },
      "file_extension": ".py",
      "mimetype": "text/x-python",
      "name": "python",
      "nbconvert_exporter": "python",
      "pygments_lexer": "ipython3",
      "version": "3.10.7"
    },
    "toc": {
      "base_numbering": 1,
      "nav_menu": {},
      "number_sections": true,
      "sideBar": true,
      "skip_h1_title": false,
      "title_cell": "Table of Contents",
      "title_sidebar": "Contents",
      "toc_cell": false,
      "toc_position": {
        "height": "calc(100% - 180px)",
        "left": "10px",
        "top": "150px",
        "width": "256px"
      },
      "toc_section_display": true,
      "toc_window_display": false
    },
    "varInspector": {
      "cols": {
        "lenName": 16,
        "lenType": 16,
        "lenVar": 40
      },
      "kernels_config": {
        "python": {
          "delete_cmd_postfix": "",
          "delete_cmd_prefix": "del ",
          "library": "var_list.py",
          "varRefreshCmd": "print(var_dic_list())"
        },
        "r": {
          "delete_cmd_postfix": ") ",
          "delete_cmd_prefix": "rm(",
          "library": "var_list.r",
          "varRefreshCmd": "cat(var_dic_list()) "
        }
      },
      "types_to_exclude": [
        "module",
        "function",
        "builtin_function_or_method",
        "instance",
        "_Feature"
      ],
      "window_display": false
    }
  },
  "nbformat": 4,
  "nbformat_minor": 0
}