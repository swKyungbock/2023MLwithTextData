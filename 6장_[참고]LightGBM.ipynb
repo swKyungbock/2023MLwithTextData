{
  "nbformat": 4,
  "nbformat_minor": 0,
  "metadata": {
    "colab": {
      "provenance": [],
      "authorship_tag": "ABX9TyOsCe19kcVNtCPi5BzeOkTN",
      "include_colab_link": true
    },
    "kernelspec": {
      "name": "python3",
      "display_name": "Python 3"
    },
    "language_info": {
      "name": "python"
    }
  },
  "cells": [
    {
      "cell_type": "markdown",
      "metadata": {
        "id": "view-in-github",
        "colab_type": "text"
      },
      "source": [
        "<a href=\"https://colab.research.google.com/github/swKyungbock/2023MLwithTextData/blob/main/6%EC%9E%A5_%5B%EC%B0%B8%EA%B3%A0%5DLightGBM.ipynb\" target=\"_parent\"><img src=\"https://colab.research.google.com/assets/colab-badge.svg\" alt=\"Open In Colab\"/></a>"
      ]
    },
    {
      "cell_type": "markdown",
      "source": [
        "# 레드 와인과 화이트 와인의 분류\n",
        "\n",
        "\n",
        "## 여러가지 방법으로 분류해 보기\n",
        "\n",
        "1.   RandomForest\n",
        "2.   GradientBoosting\n",
        "3. LGBM\n",
        "\n"
      ],
      "metadata": {
        "id": "wX87zxGDa9rV"
      }
    },
    {
      "cell_type": "code",
      "execution_count": 1,
      "metadata": {
        "id": "Hou7hJ7vRI6Z"
      },
      "outputs": [],
      "source": [
        "#필요한 라이브러리 임포트\n",
        "import pandas as pd\n",
        "import numpy as np\n",
        "from sklearn.model_selection import train_test_split"
      ]
    },
    {
      "cell_type": "code",
      "source": [
        "#데이터 가져오기\n",
        "wine=pd.read_csv('https://bit.ly/wine_csv_data')\n",
        "\n",
        "data=wine[['alcohol','sugar','pH']].to_numpy()\n",
        "target=wine['class'].to_numpy()\n",
        "\n",
        "#트레이닝용 데이터와 테스트용 데이터 분리하기\n",
        "train_input, test_input, train_target, test_target=train_test_split(data, target,test_size=0.2, random_state=42)\n"
      ],
      "metadata": {
        "id": "z1zuynSNSDg-"
      },
      "execution_count": 2,
      "outputs": []
    },
    {
      "cell_type": "markdown",
      "source": [
        "### 랜덤 포레스트로 훈련하기"
      ],
      "metadata": {
        "id": "Jkb2YM0cbfia"
      }
    },
    {
      "cell_type": "code",
      "source": [
        "#랜덤 포레스트로 훈련하기\n",
        "from sklearn.ensemble import RandomForestClassifier\n",
        "rf=RandomForestClassifier(n_jobs=-1, random_state=42)\n",
        "rf.fit(train_input, train_target)\n",
        "print(rf.feature_importances_)\n",
        "print(rf.score(train_input, train_target))\n",
        "print(rf.score(test_input, test_target))"
      ],
      "metadata": {
        "colab": {
          "base_uri": "https://localhost:8080/"
        },
        "id": "By5dWi-ITEEx",
        "outputId": "35c5756c-b789-4950-a3e5-9c8181e6ea56"
      },
      "execution_count": 3,
      "outputs": [
        {
          "output_type": "stream",
          "name": "stdout",
          "text": [
            "[0.23167441 0.50039841 0.26792718]\n",
            "0.996921300750433\n",
            "0.8892307692307693\n"
          ]
        }
      ]
    },
    {
      "cell_type": "markdown",
      "source": [
        "## 랜덤 포레스트의 oob(Out Of Box) 이용하기"
      ],
      "metadata": {
        "id": "sT6G4zgebirx"
      }
    },
    {
      "cell_type": "code",
      "source": [
        "#랜덤 포레스트의 oob(Out Of Box) 이용하기\n",
        "rf=RandomForestClassifier(oob_score=True, n_jobs=-1, random_state=42)\n",
        "rf.fit(train_input, train_target)\n",
        "print(rf.feature_importances_)\n",
        "print(rf.oob_score_)\n",
        "print(rf.score(train_input, train_target))\n",
        "print(rf.score(test_input, test_target))"
      ],
      "metadata": {
        "colab": {
          "base_uri": "https://localhost:8080/"
        },
        "id": "J5DOUKFDTi2z",
        "outputId": "c239524d-b409-48e2-9fdd-e4153796e81a"
      },
      "execution_count": 4,
      "outputs": [
        {
          "output_type": "stream",
          "name": "stdout",
          "text": [
            "[0.23167441 0.50039841 0.26792718]\n",
            "0.8934000384837406\n",
            "0.996921300750433\n",
            "0.8892307692307693\n"
          ]
        }
      ]
    },
    {
      "cell_type": "markdown",
      "source": [
        "##그레이디언트 부스팅"
      ],
      "metadata": {
        "id": "pQz4DjZ2bnrZ"
      }
    },
    {
      "cell_type": "code",
      "source": [
        "#그레이디언트 부스팅\n",
        "from sklearn.ensemble import GradientBoostingClassifier\n",
        "gb=GradientBoostingClassifier(n_estimators=500, learning_rate=0.2, random_state=42)\n",
        "gb.fit(train_input,train_target)\n",
        "print(gb.feature_importances_)\n",
        "print(gb.score(train_input, train_target))\n",
        "print(gb.score(test_input, test_target))\n"
      ],
      "metadata": {
        "colab": {
          "base_uri": "https://localhost:8080/"
        },
        "id": "NrjL0mUyUrbk",
        "outputId": "0d23f08f-2126-4da3-f8e1-b2105f59efac"
      },
      "execution_count": 5,
      "outputs": [
        {
          "output_type": "stream",
          "name": "stdout",
          "text": [
            "[0.15872278 0.68010884 0.16116839]\n",
            "0.9382335963055609\n",
            "0.8707692307692307\n"
          ]
        }
      ]
    },
    {
      "cell_type": "markdown",
      "source": [
        "##히스토그램기반 그레이디언트 부스팅"
      ],
      "metadata": {
        "id": "4q0I-eEbbqmZ"
      }
    },
    {
      "cell_type": "code",
      "source": [
        "#히스토그램기반 그레이디언트 부스팅\n",
        "from sklearn.ensemble import HistGradientBoostingClassifier\n",
        "hgb=HistGradientBoostingClassifier(random_state=42)\n",
        "hgb.fit(train_input,train_target)\n",
        "\n",
        "print(hgb.score(train_input, train_target))\n",
        "print(hgb.score(test_input, test_target))\n"
      ],
      "metadata": {
        "colab": {
          "base_uri": "https://localhost:8080/"
        },
        "id": "MIN40LWzVlXR",
        "outputId": "e1b21f1f-be88-406c-925e-82b094255350"
      },
      "execution_count": 9,
      "outputs": [
        {
          "output_type": "stream",
          "name": "stdout",
          "text": [
            "0.924956705791803\n",
            "0.8723076923076923\n"
          ]
        }
      ]
    },
    {
      "cell_type": "markdown",
      "source": [
        "##LightGBM"
      ],
      "metadata": {
        "id": "9GPQrWNZbz-7"
      }
    },
    {
      "cell_type": "code",
      "source": [
        "#LightGBM\n",
        "from lightgbm import LGBMClassifier\n",
        "lgb=LGBMClassifier(random_state=42)\n",
        "lgb.fit(train_input,train_target)\n",
        "\n",
        "print(lgb.score(train_input, train_target))\n",
        "print(lgb.score(test_input, test_target))"
      ],
      "metadata": {
        "colab": {
          "base_uri": "https://localhost:8080/"
        },
        "id": "FvpYrbtrWHuz",
        "outputId": "eb92cfff-fdff-4964-ba2d-50e6d57c5336"
      },
      "execution_count": 10,
      "outputs": [
        {
          "output_type": "stream",
          "name": "stdout",
          "text": [
            "[LightGBM] [Info] Number of positive: 3939, number of negative: 1258\n",
            "[LightGBM] [Warning] Auto-choosing col-wise multi-threading, the overhead of testing was 0.000217 seconds.\n",
            "You can set `force_col_wise=true` to remove the overhead.\n",
            "[LightGBM] [Info] Total Bins 380\n",
            "[LightGBM] [Info] Number of data points in the train set: 5197, number of used features: 3\n",
            "[LightGBM] [Info] [binary:BoostFromScore]: pavg=0.757937 -> initscore=1.141404\n",
            "[LightGBM] [Info] Start training from score 1.141404\n",
            "0.9288050798537618\n",
            "0.8730769230769231\n"
          ]
        }
      ]
    }
  ]
}