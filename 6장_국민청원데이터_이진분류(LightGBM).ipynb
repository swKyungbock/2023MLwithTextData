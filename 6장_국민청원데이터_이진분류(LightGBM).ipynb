{
  "cells": [
    {
      "cell_type": "markdown",
      "metadata": {
        "id": "view-in-github",
        "colab_type": "text"
      },
      "source": [
        "<a href=\"https://colab.research.google.com/github/swKyungbock/2023MLwithTextData/blob/main/6%EC%9E%A5_%EA%B5%AD%EB%AF%BC%EC%B2%AD%EC%9B%90%EB%8D%B0%EC%9D%B4%ED%84%B0_%EC%9D%B4%EC%A7%84%EB%B6%84%EB%A5%98(LightGBM).ipynb\" target=\"_parent\"><img src=\"https://colab.research.google.com/assets/colab-badge.svg\" alt=\"Open In Colab\"/></a>"
      ]
    },
    {
      "cell_type": "markdown",
      "metadata": {
        "id": "Ddb_N_hoGWLg"
      },
      "source": [
        "# 국민청원 데이터로 이진 분류하기"
      ]
    },
    {
      "cell_type": "code",
      "execution_count": null,
      "metadata": {
        "id": "_wQrrZ86GWLj"
      },
      "outputs": [],
      "source": [
        "import os\n",
        "import re\n",
        "import platform\n",
        "import pandas as pd\n",
        "import numpy as np"
      ]
    },
    {
      "cell_type": "markdown",
      "metadata": {
        "id": "0nh1yksKGWLn"
      },
      "source": [
        "# 데이터 로드하기\n",
        "*  데이터 출처 : https://github.com/akngs/petitions"
      ]
    },
    {
      "cell_type": "code",
      "execution_count": null,
      "metadata": {
        "id": "5CzJqWw3eyP9"
      },
      "outputs": [],
      "source": [
        "base_path = \"data\"\n",
        "file_name = \"petition.csv\"\n",
        "\n",
        "def file_exist_check(base_path, file_name):\n",
        "    if os.path.exists(f\"./{base_path}/{file_name}\"):\n",
        "        print(f\"{os.getcwd()}/{base_path} 경로에 파일이 있음\")\n",
        "        return\n",
        "\n",
        "    if not os.path.exists(base_path):\n",
        "        os.makedirs(base_path)\n",
        "\n",
        "    if platform.system() == \"Linux\":\n",
        "        # 구글 드라이브에서 csv 파일을 읽어오기 위해 gauth 인증하기\n",
        "        !pip install -U -q PyDrive\n",
        "        from pydrive.auth import GoogleAuth\n",
        "        from pydrive.drive import GoogleDrive\n",
        "        from google.colab import auth\n",
        "        from oauth2client.client import GoogleCredentials\n",
        "\n",
        "        auth.authenticate_user()\n",
        "        gauth = GoogleAuth()\n",
        "        gauth.credentials = GoogleCredentials.get_application_default()\n",
        "        drive = GoogleDrive(gauth)\n",
        "        url ='https://drive.google.com/open?id=1d8VEAj6n83wT1YRlCrhoU_1mMSvYpXc4'\n",
        "\n",
        "        id = url.split('=')[1]\n",
        "        downloaded = drive.CreateFile({'id':id})\n",
        "        downloaded.GetContentFile(f'{base_path}/{file_name}')\n",
        "        print(f\"사용자의 구글 드라이브에 {base_path}/{file_name} 다운로드 완료\")\n",
        "        return\n",
        "    else:\n",
        "        print(f\"{file_link} 에서 다운로드 받아 실습 경로 {os.getcwd()}/{base_path}에 옮겨주세요.\"\"\")\n",
        "        return\n",
        "\n",
        "file_exist_check(base_path, file_name)"
      ]
    },
    {
      "cell_type": "code",
      "execution_count": null,
      "metadata": {
        "id": "qZsZL9eBGWLo"
      },
      "outputs": [],
      "source": [
        "petitions = pd.read_csv(f'{base_path}/petition.csv',\n",
        "                        parse_dates=['start', 'end'])\n",
        "petitions.shape"
      ]
    },
    {
      "cell_type": "code",
      "execution_count": null,
      "metadata": {
        "id": "cWPp0PaTGWLs"
      },
      "outputs": [],
      "source": [
        "petitions.describe()"
      ]
    },
    {
      "cell_type": "code",
      "execution_count": null,
      "metadata": {
        "id": "ZX-Js1ZnGWLx"
      },
      "outputs": [],
      "source": [
        "# 전체 데이터 중 투표가 500건 이상인 데이터를 기준으로 가져옵니다.\n",
        "# 아웃라이어 데이터 제거를 위해 20만건 이상 데이터도 제거합니다.\n",
        "petition_remove_outlier = petitions.loc[(petitions['votes'] > 500) &\n",
        "                                        (petitions['votes'] < 200000)]\n",
        "petition_remove_outlier.shape"
      ]
    },
    {
      "cell_type": "code",
      "execution_count": null,
      "metadata": {
        "id": "zhNm4m1UGWL0"
      },
      "outputs": [],
      "source": [
        "df = petition_remove_outlier.copy()"
      ]
    },
    {
      "cell_type": "code",
      "execution_count": null,
      "metadata": {
        "id": "WB-ltSN0GWL3"
      },
      "outputs": [],
      "source": [
        "df.describe()"
      ]
    },
    {
      "cell_type": "markdown",
      "metadata": {
        "id": "Rm3fY9L7GWL6"
      },
      "source": [
        "# 이진분류 대상 정하기"
      ]
    },
    {
      "cell_type": "code",
      "execution_count": null,
      "metadata": {
        "id": "xRoBt62WGWL6"
      },
      "outputs": [],
      "source": [
        "# 답변 대상 건\n",
        "df.loc[df['answered'] == 1].shape"
      ]
    },
    {
      "cell_type": "code",
      "execution_count": null,
      "metadata": {
        "id": "sqeQ5caHGWL-"
      },
      "outputs": [],
      "source": [
        "df['votes'].plot.hist()"
      ]
    },
    {
      "cell_type": "markdown",
      "metadata": {
        "id": "MF-j2CiAGWME"
      },
      "source": [
        "# 투표수를 평균보다 높게 혹은 적게 받는지 예측해 보기"
      ]
    },
    {
      "cell_type": "code",
      "execution_count": null,
      "metadata": {
        "id": "UGynO02lGWMF"
      },
      "outputs": [],
      "source": [
        "# 기본값을 0으로 설정\n",
        "df['votes_pos_neg'] = 0"
      ]
    },
    {
      "cell_type": "code",
      "execution_count": null,
      "metadata": {
        "id": "vD764md3GWML"
      },
      "outputs": [],
      "source": [
        "# 평균 투표수\n",
        "votes_mean = df['votes'].mean()\n",
        "votes_mean"
      ]
    },
    {
      "cell_type": "code",
      "execution_count": null,
      "metadata": {
        "id": "-qvvZnLrGWMP"
      },
      "outputs": [],
      "source": [
        "# 투표수가 평균을 넘으면 1로\n",
        "df['votes_pos_neg'] = (df['votes'] > votes_mean) == 1"
      ]
    },
    {
      "cell_type": "code",
      "execution_count": null,
      "metadata": {
        "id": "nSEVttZlwt1z"
      },
      "outputs": [],
      "source": [
        "df['votes_pos_neg'].dtypes"
      ]
    },
    {
      "cell_type": "code",
      "execution_count": null,
      "metadata": {
        "id": "v_WUfsiBGWMR"
      },
      "outputs": [],
      "source": [
        "# 타입을 boolean 에서 int로 변경해 줍니다.\n",
        "df['votes_pos_neg'] = df['votes_pos_neg'].astype(int)"
      ]
    },
    {
      "cell_type": "code",
      "execution_count": null,
      "metadata": {
        "id": "qg5gannfGWMT"
      },
      "outputs": [],
      "source": [
        "df[['votes', 'votes_pos_neg']].head()"
      ]
    },
    {
      "cell_type": "code",
      "execution_count": null,
      "metadata": {
        "id": "wGxJIX8PGWMX"
      },
      "outputs": [],
      "source": [
        "# 샘플로 보고 싶은 인덱스의 번호를 넣어주세요.\n",
        "sample_index = 13"
      ]
    },
    {
      "cell_type": "code",
      "execution_count": null,
      "metadata": {
        "id": "8CuehUNqGWMa"
      },
      "outputs": [],
      "source": [
        "sample_title = df.loc[sample_index, 'title']\n",
        "sample_title"
      ]
    },
    {
      "cell_type": "code",
      "execution_count": null,
      "metadata": {
        "id": "qLIB5jOTGWMc"
      },
      "outputs": [],
      "source": [
        "sample_content = petitions.loc[sample_index, 'content']\n",
        "sample_content"
      ]
    },
    {
      "cell_type": "markdown",
      "metadata": {
        "id": "Ftqshf06GWMg"
      },
      "source": [
        "# 전처리 하기"
      ]
    },
    {
      "cell_type": "code",
      "execution_count": null,
      "metadata": {
        "id": "xwG3rIWUGWMh"
      },
      "outputs": [],
      "source": [
        "def preprocessing(text):\n",
        "    # 개행문자 제거\n",
        "    text = re.sub('\\\\\\\\n', ' ', text)\n",
        "    # 특수문자 제거\n",
        "    # 특수문자나 이모티콘 등은 때로는 의미를 갖기도 하지만 여기에서는 제거했습니다.\n",
        "    # text = re.sub('[?.,;:|\\)*~`’!^\\-_+<>@\\#$%&-=#}※]', '', text)\n",
        "    # 한글, 영문, 숫자만 남기고 모두 제거하도록 합니다.\n",
        "    # text = re.sub('[^가-힣ㄱ-ㅎㅏ-ㅣa-zA-Z0-9]', ' ', text)\n",
        "    # 한글, 영문만 남기고 모두 제거하도록 합니다.\n",
        "    text = re.sub('[^가-힣ㄱ-ㅎㅏ-ㅣa-zA-Z]', ' ', text)\n",
        "    # 중복으로 생성된 공백값을 제거합니다.\n",
        "    text = re.sub(' +', ' ', text)\n",
        "    return text"
      ]
    },
    {
      "cell_type": "code",
      "execution_count": null,
      "metadata": {
        "id": "jgbWrE_jGWMj"
      },
      "outputs": [],
      "source": [
        "# 불용어 제거\n",
        "def remove_stopwords(text):\n",
        "    tokens = text.split(' ')\n",
        "    stops = ['수', '현', '있는', '있습니다', '그', '년도', '합니다', '하는',\n",
        "             '및', '제', '할', '하고', '더', '대한', '한', '그리고', '월',\n",
        "             '저는', '없는', '입니다', '등', '일', '많은', '이런', '것은',\n",
        "             '왜','같은', '같습니다', '없습니다', '위해', '한다']\n",
        "    meaningful_words = [w for w in tokens if not w in stops]\n",
        "    return ' '.join(meaningful_words)"
      ]
    },
    {
      "cell_type": "code",
      "execution_count": null,
      "metadata": {
        "id": "O32FAOHqGWMk"
      },
      "outputs": [],
      "source": [
        "# 샘플데이터에 적용\n",
        "%time pre_sample_content = preprocessing(sample_content)"
      ]
    },
    {
      "cell_type": "code",
      "execution_count": null,
      "metadata": {
        "id": "ib92t6XCGWMm"
      },
      "outputs": [],
      "source": [
        "%time pre_sample_content = remove_stopwords(pre_sample_content)"
      ]
    },
    {
      "cell_type": "code",
      "execution_count": null,
      "metadata": {
        "id": "qTuOMrn01lBl"
      },
      "outputs": [],
      "source": [
        "pre_sample_content"
      ]
    },
    {
      "cell_type": "code",
      "execution_count": null,
      "metadata": {
        "id": "FiJI6mjBGWMp"
      },
      "outputs": [],
      "source": [
        "%time df['content_preprocessing'] = df['content'].apply(preprocessing)"
      ]
    },
    {
      "cell_type": "code",
      "execution_count": null,
      "metadata": {
        "id": "lFd-lTxCGWMt"
      },
      "outputs": [],
      "source": [
        "%time df['content_preprocessed'] = df['content_preprocessing'].apply(remove_stopwords)"
      ]
    },
    {
      "cell_type": "markdown",
      "metadata": {
        "id": "EvfLGn81GWMw"
      },
      "source": [
        "# 학습세트와 테스트세트 만들기\n",
        "* 학습세트와 테스트세트를 7:3의 비율로 나눠 줍니다."
      ]
    },
    {
      "cell_type": "code",
      "execution_count": null,
      "metadata": {
        "id": "vUw2Cu6PGWMx"
      },
      "outputs": [],
      "source": [
        "df.head()"
      ]
    },
    {
      "cell_type": "code",
      "execution_count": null,
      "metadata": {
        "id": "-59nm1yKGWM0"
      },
      "outputs": [],
      "source": [
        "df.shape"
      ]
    },
    {
      "cell_type": "markdown",
      "metadata": {
        "id": "xVnp3jUvD3mb"
      },
      "source": [
        "### 데이터를 나누는 기준을 구함"
      ]
    },
    {
      "cell_type": "code",
      "execution_count": null,
      "metadata": {
        "id": "fIPZ3YXmGWM4"
      },
      "outputs": [],
      "source": [
        "split_count = int(df.shape[0] * 0.7)\n",
        "split_count"
      ]
    },
    {
      "cell_type": "markdown",
      "metadata": {
        "id": "uS90aRetDVe4"
      },
      "source": [
        "### 학습세트 만들기"
      ]
    },
    {
      "cell_type": "code",
      "execution_count": null,
      "metadata": {
        "id": "IIha9SluGWM7"
      },
      "outputs": [],
      "source": [
        "df_train = df[:split_count].copy()\n",
        "df_train.shape"
      ]
    },
    {
      "cell_type": "code",
      "execution_count": null,
      "metadata": {
        "id": "sVOVdV_RGWM9"
      },
      "outputs": [],
      "source": [
        "df_train.tail()"
      ]
    },
    {
      "cell_type": "code",
      "execution_count": null,
      "metadata": {
        "id": "RqYDEM1zGWNA"
      },
      "outputs": [],
      "source": [
        "# 학습 세트에서 투표수가 평균보다 많은 건\n",
        "df_train.loc[df_train['votes_pos_neg'] == 1].shape"
      ]
    },
    {
      "cell_type": "markdown",
      "metadata": {
        "id": "RiovkOqKDfip"
      },
      "source": [
        "### 테스트세트 만들기\n",
        "* split_count를 기준(아래에서 30% 갯수)으로 데이터를 사용"
      ]
    },
    {
      "cell_type": "code",
      "execution_count": null,
      "metadata": {
        "id": "gx5qAlspGWNC"
      },
      "outputs": [],
      "source": [
        "df_test = df[split_count:].copy()\n",
        "df_test.shape"
      ]
    },
    {
      "cell_type": "code",
      "execution_count": null,
      "metadata": {
        "id": "od0QhGQ6GWNF"
      },
      "outputs": [],
      "source": [
        "df_test.head()"
      ]
    },
    {
      "cell_type": "code",
      "execution_count": null,
      "metadata": {
        "id": "Gi49Cp5fGWNH"
      },
      "outputs": [],
      "source": [
        "# 테스트 세트에서 투표수가 평균보다 많은 건\n",
        "df_test.loc[df_test['votes_pos_neg'] == 1].shape"
      ]
    },
    {
      "cell_type": "markdown",
      "metadata": {
        "id": "qglyc-NxGWNL"
      },
      "source": [
        "# 단어 벡터화 하기"
      ]
    },
    {
      "cell_type": "code",
      "execution_count": null,
      "metadata": {
        "id": "7j0Ajj5AGWNL"
      },
      "outputs": [],
      "source": [
        "from sklearn.feature_extraction.text import CountVectorizer\n",
        "\n",
        "vectorizer = CountVectorizer(analyzer = 'word',\n",
        "                             tokenizer = None,\n",
        "                             preprocessor = None,\n",
        "                             stop_words = None,\n",
        "                             min_df = 2,\n",
        "                             ngram_range=(1, 3),\n",
        "                             max_features = 2000\n",
        "                            )\n",
        "vectorizer"
      ]
    },
    {
      "cell_type": "code",
      "execution_count": null,
      "metadata": {
        "id": "8q4bGuwAGWNO"
      },
      "outputs": [],
      "source": [
        "%%time\n",
        "train_feature_vector = vectorizer.fit_transform(df_train['content_preprocessed'])\n",
        "train_feature_vector.shape"
      ]
    },
    {
      "cell_type": "code",
      "execution_count": null,
      "metadata": {
        "id": "19A9PuHsGWNQ"
      },
      "outputs": [],
      "source": [
        "%%time\n",
        "test_feature_vector = vectorizer.transform(df_test['content_preprocessed'])\n",
        "test_feature_vector.shape"
      ]
    },
    {
      "cell_type": "code",
      "execution_count": null,
      "metadata": {
        "id": "YMh-0SK8GWNS"
      },
      "outputs": [],
      "source": [
        "vocab = vectorizer.get_feature_names_out()\n",
        "print(len(vocab))\n",
        "vocab[:10]"
      ]
    },
    {
      "cell_type": "code",
      "execution_count": null,
      "metadata": {
        "id": "CyaIQQ5cGWNX"
      },
      "outputs": [],
      "source": [
        "dist = np.sum(train_feature_vector, axis=0)\n",
        "\n",
        "pd.DataFrame(dist, columns=vocab)"
      ]
    },
    {
      "cell_type": "markdown",
      "metadata": {
        "id": "xDqeIBSgEUiI"
      },
      "source": [
        "### TF-IDF 가중치 적용"
      ]
    },
    {
      "cell_type": "code",
      "execution_count": null,
      "metadata": {
        "id": "ATlF2CtrGWNZ"
      },
      "outputs": [],
      "source": [
        "from sklearn.feature_extraction.text import TfidfTransformer\n",
        "transformer = TfidfTransformer(smooth_idf=False)\n",
        "transformer"
      ]
    },
    {
      "cell_type": "code",
      "execution_count": null,
      "metadata": {
        "id": "S_RcWReoGWNm"
      },
      "outputs": [],
      "source": [
        "%%time\n",
        "train_feature_tfidf = transformer.fit_transform(train_feature_vector)\n",
        "train_feature_tfidf.shape"
      ]
    },
    {
      "cell_type": "code",
      "execution_count": null,
      "metadata": {
        "id": "m0m-rdxsGWNt"
      },
      "outputs": [],
      "source": [
        "%%time\n",
        "test_feature_tfidf = transformer.transform(test_feature_vector)\n",
        "test_feature_tfidf.shape"
      ]
    },
    {
      "cell_type": "code",
      "execution_count": null,
      "metadata": {
        "id": "QXtYbXecGWN0"
      },
      "outputs": [],
      "source": [
        "test_feature_tfidf.shape"
      ]
    },
    {
      "cell_type": "markdown",
      "metadata": {
        "id": "OLdWKx2iGWN4"
      },
      "source": [
        "# LGBM으로 학습\n",
        "\n"
      ]
    },
    {
      "cell_type": "code",
      "execution_count": null,
      "metadata": {
        "id": "0qDw4YDnGWN5"
      },
      "outputs": [],
      "source": [
        "from lightgbm import LGBMClassifier\n",
        "\n",
        "model = LGBMClassifier(random_state=42, n_jobs=1)\n",
        "model"
      ]
    },
    {
      "cell_type": "code",
      "execution_count": null,
      "metadata": {
        "id": "pdYoXtz0GWN8"
      },
      "outputs": [],
      "source": [
        "# 학습에 사용할 y_label 을 넣어준다.\n",
        "y_label = df_train['votes_pos_neg']\n",
        "%time model = model.fit(train_feature_tfidf, y_label)"
      ]
    },
    {
      "cell_type": "markdown",
      "metadata": {
        "id": "mgaCkot3GWN_"
      },
      "source": [
        "# 평가하기"
      ]
    },
    {
      "cell_type": "code",
      "execution_count": null,
      "metadata": {
        "id": "Q8f0HUbjGWN_"
      },
      "outputs": [],
      "source": [
        "from sklearn.model_selection import KFold\n",
        "from sklearn.model_selection import cross_val_score\n",
        "\n",
        "k_fold = KFold(n_splits=5, shuffle=True, random_state=42)\n",
        "\n",
        "scoring = 'accuracy'\n",
        "score = cross_val_score(model, train_feature_tfidf,\n",
        "                        y_label, cv=k_fold, n_jobs=-1,\n",
        "                        scoring=scoring)\n",
        "score"
      ]
    },
    {
      "cell_type": "code",
      "execution_count": null,
      "metadata": {
        "id": "lfSSpFoeeyQQ"
      },
      "outputs": [],
      "source": [
        "round(np.mean(score)*100,2)"
      ]
    },
    {
      "cell_type": "markdown",
      "metadata": {
        "id": "1iGf3ldBGWOF"
      },
      "source": [
        "# 예측"
      ]
    },
    {
      "cell_type": "code",
      "execution_count": null,
      "metadata": {
        "id": "MEBSuYTBGWOF"
      },
      "outputs": [],
      "source": [
        "y_pred = model.predict(test_feature_tfidf)\n",
        "y_pred[:10]"
      ]
    },
    {
      "cell_type": "code",
      "execution_count": null,
      "metadata": {
        "id": "FPDz-G45GWOI"
      },
      "outputs": [],
      "source": [
        "y_pred.shape"
      ]
    },
    {
      "cell_type": "code",
      "execution_count": null,
      "metadata": {
        "id": "ze266zmNGWOK"
      },
      "outputs": [],
      "source": [
        "# 예측 결과를 저장하기 위해 데이터프레임에 담아 준다.\n",
        "output = pd.DataFrame(data={'votes_pos_neg_pred' : y_pred})\n",
        "output.head()"
      ]
    },
    {
      "cell_type": "code",
      "execution_count": null,
      "metadata": {
        "id": "3ac-3gaYGWOM"
      },
      "outputs": [],
      "source": [
        "# 0과 1이 어떻게 집계 되었는지 확인한다.\n",
        "# 실제 데이터에는 답변 대상 건이 있는데 없는 것으로 예측되었다.\n",
        "output['votes_pos_neg_pred'].value_counts()"
      ]
    },
    {
      "cell_type": "code",
      "execution_count": null,
      "metadata": {
        "id": "c0arvl9VGWOO"
      },
      "outputs": [],
      "source": [
        "df_test['votes_pos_neg_pred'] = y_pred"
      ]
    },
    {
      "cell_type": "markdown",
      "metadata": {
        "id": "efPkBGQ4E4cr"
      },
      "source": [
        "## 예측 결과의 정확도 보기"
      ]
    },
    {
      "cell_type": "code",
      "execution_count": null,
      "metadata": {
        "id": "5leGuF_QGWOQ"
      },
      "outputs": [],
      "source": [
        "df_test['pred_diff'] = np.abs(df_test['votes_pos_neg'] - df_test['votes_pos_neg_pred'])\n",
        "df_test[['title', 'votes', 'votes_pos_neg', 'votes_pos_neg_pred', 'pred_diff']].head()"
      ]
    },
    {
      "cell_type": "code",
      "execution_count": null,
      "metadata": {
        "id": "FLNOi6I8GWOU"
      },
      "outputs": [],
      "source": [
        "pred_diff = df_test['pred_diff'].value_counts()\n",
        "pred_diff"
      ]
    },
    {
      "cell_type": "code",
      "execution_count": null,
      "metadata": {
        "id": "huEMcnq2GWOW"
      },
      "outputs": [],
      "source": [
        "print(f\"전체 {y_pred.shape[0]}건의 데이터 중 {pred_diff[0]}건 예측\")"
      ]
    },
    {
      "cell_type": "code",
      "execution_count": null,
      "metadata": {
        "id": "j39m-qJMGWOY"
      },
      "outputs": [],
      "source": [
        "acc = ( pred_diff[0] / y_pred.shape[0] ) * 100\n",
        "print(f'정확도 {acc:.6f}')"
      ]
    }
  ],
  "metadata": {
    "kernelspec": {
      "display_name": "Python 3 (ipykernel)",
      "language": "python",
      "name": "python3"
    },
    "language_info": {
      "codemirror_mode": {
        "name": "ipython",
        "version": 3
      },
      "file_extension": ".py",
      "mimetype": "text/x-python",
      "name": "python",
      "nbconvert_exporter": "python",
      "pygments_lexer": "ipython3",
      "version": "3.7.13"
    },
    "toc": {
      "base_numbering": 1,
      "nav_menu": {},
      "number_sections": true,
      "sideBar": true,
      "skip_h1_title": false,
      "title_cell": "Table of Contents",
      "title_sidebar": "Contents",
      "toc_cell": false,
      "toc_position": {},
      "toc_section_display": true,
      "toc_window_display": false
    },
    "varInspector": {
      "cols": {
        "lenName": 16,
        "lenType": 16,
        "lenVar": 40
      },
      "kernels_config": {
        "python": {
          "delete_cmd_postfix": "",
          "delete_cmd_prefix": "del ",
          "library": "var_list.py",
          "varRefreshCmd": "print(var_dic_list())"
        },
        "r": {
          "delete_cmd_postfix": ") ",
          "delete_cmd_prefix": "rm(",
          "library": "var_list.r",
          "varRefreshCmd": "cat(var_dic_list()) "
        }
      },
      "types_to_exclude": [
        "module",
        "function",
        "builtin_function_or_method",
        "instance",
        "_Feature"
      ],
      "window_display": false
    },
    "colab": {
      "provenance": [],
      "include_colab_link": true
    }
  },
  "nbformat": 4,
  "nbformat_minor": 0
}